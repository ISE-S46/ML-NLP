{
  "nbformat": 4,
  "nbformat_minor": 0,
  "metadata": {
    "colab": {
      "provenance": []
    },
    "kernelspec": {
      "name": "python3",
      "display_name": "Python 3"
    },
    "language_info": {
      "name": "python"
    }
  },
  "cells": [
    {
      "cell_type": "markdown",
      "source": [
        "**Based on the dataset provided**\n",
        "- Create a dataframe using a list of tuples\n",
        "- Show all the records and count the number of records\n",
        "- Find students whose age are 21 or older using Spark SQL & PySpark DF API\n",
        "- Calculate the average age using Spark SQL & PySpark DF API\n",
        "- Fetch students who studying Mathematics using Spark SQL & PySpark DF API"
      ],
      "metadata": {
        "id": "3da9bTlfKwjG"
      }
    },
    {
      "cell_type": "markdown",
      "source": [
        "name,age,grade,subject\n",
        "\n",
        "Alice,20,85,Math\n",
        "\n",
        "Bob,22,78,Science\n",
        "\n",
        "Charlie,21,90,Math\n",
        "\n",
        "David,23,76,History\n",
        "\n",
        "Eva,20,92,Science"
      ],
      "metadata": {
        "id": "xomkkznFLTy5"
      }
    },
    {
      "cell_type": "markdown",
      "source": [
        "Show all the records and count the number of records"
      ],
      "metadata": {
        "id": "DOR3u957OkKn"
      }
    },
    {
      "cell_type": "code",
      "execution_count": 1,
      "metadata": {
        "colab": {
          "base_uri": "https://localhost:8080/"
        },
        "id": "Togbv7EKKspG",
        "outputId": "db70fbd9-a02b-4c2e-e821-a8c1cb028535"
      },
      "outputs": [
        {
          "output_type": "stream",
          "name": "stdout",
          "text": [
            "+-------+---+-----+-------+\n",
            "|   Name|Age|Grade|subject|\n",
            "+-------+---+-----+-------+\n",
            "|  Alice| 20|   85|   Math|\n",
            "|    Bob| 22|   78|Science|\n",
            "|Charlie| 21|   90|   Math|\n",
            "|  David| 23|   76|History|\n",
            "|    Eva| 20|   92|Science|\n",
            "+-------+---+-----+-------+\n",
            "\n"
          ]
        }
      ],
      "source": [
        "from pyspark.sql import SparkSession\n",
        "\n",
        "spark = SparkSession.builder.appName(\"Homework5_1\").getOrCreate()\n",
        "data = [(\"Alice\", 20, 85, \"Math\"), (\"Bob\", 22, 78, \"Science\"), (\"Charlie\", 21, 90, \"Math\"), (\"David\", 23, 76, \"History\"), (\"Eva\", 20, 92, \"Science\")]\n",
        "columns = [\"Name\", \"Age\", \"Grade\", \"subject\"]\n",
        "\n",
        "df = spark.createDataFrame(data, columns)\n",
        "df.show()"
      ]
    },
    {
      "cell_type": "code",
      "source": [
        "print(\"Records:\",df.count())\n",
        "print()"
      ],
      "metadata": {
        "colab": {
          "base_uri": "https://localhost:8080/"
        },
        "id": "6-YZ6KyHOsgF",
        "outputId": "2b494ff0-30ae-4464-bb3e-988c0cad680d"
      },
      "execution_count": 2,
      "outputs": [
        {
          "output_type": "stream",
          "name": "stdout",
          "text": [
            "Records: 5\n",
            "\n"
          ]
        }
      ]
    },
    {
      "cell_type": "code",
      "source": [
        "df.createOrReplaceTempView(\"list\")"
      ],
      "metadata": {
        "id": "2Utf-kDLOxqH"
      },
      "execution_count": 3,
      "outputs": []
    },
    {
      "cell_type": "markdown",
      "source": [
        "Find students whose age are 21 or older using Spark SQL & PySpark DF API"
      ],
      "metadata": {
        "id": "nXDcXY0qOu1c"
      }
    },
    {
      "cell_type": "code",
      "source": [
        "# Spark SQL\n",
        "spark.sql(\"SELECT * FROM list WHERE Age >= 21\").show()"
      ],
      "metadata": {
        "colab": {
          "base_uri": "https://localhost:8080/"
        },
        "id": "Gsp5GgyZOzPw",
        "outputId": "1f0b7dad-12fb-4e0a-c27b-b49e6290115e"
      },
      "execution_count": 10,
      "outputs": [
        {
          "output_type": "stream",
          "name": "stdout",
          "text": [
            "+-------+---+-----+-------+\n",
            "|   Name|Age|Grade|subject|\n",
            "+-------+---+-----+-------+\n",
            "|    Bob| 22|   78|Science|\n",
            "|Charlie| 21|   90|   Math|\n",
            "|  David| 23|   76|History|\n",
            "+-------+---+-----+-------+\n",
            "\n"
          ]
        }
      ]
    },
    {
      "cell_type": "code",
      "source": [
        "# PySpark DF API\n",
        "df.filter(df.Age >= 21).show()"
      ],
      "metadata": {
        "colab": {
          "base_uri": "https://localhost:8080/"
        },
        "id": "8LRML3q3Q0MA",
        "outputId": "90e8098a-aa54-46c3-bd14-d1b101e28b83"
      },
      "execution_count": 12,
      "outputs": [
        {
          "output_type": "stream",
          "name": "stdout",
          "text": [
            "+-------+---+-----+-------+\n",
            "|   Name|Age|Grade|subject|\n",
            "+-------+---+-----+-------+\n",
            "|    Bob| 22|   78|Science|\n",
            "|Charlie| 21|   90|   Math|\n",
            "|  David| 23|   76|History|\n",
            "+-------+---+-----+-------+\n",
            "\n"
          ]
        }
      ]
    },
    {
      "cell_type": "markdown",
      "source": [
        "Calculate the average age using Spark SQL & PySpark DF API"
      ],
      "metadata": {
        "id": "fhMIgUCrQfnq"
      }
    },
    {
      "cell_type": "code",
      "source": [
        "# Spark SQL\n",
        "spark.sql(\"SELECT AVG(Age) FROM list;\").show()"
      ],
      "metadata": {
        "colab": {
          "base_uri": "https://localhost:8080/"
        },
        "id": "R7HYulMKQhXw",
        "outputId": "ae935846-85ee-41be-8c31-b1bfd7ff89a4"
      },
      "execution_count": 9,
      "outputs": [
        {
          "output_type": "stream",
          "name": "stdout",
          "text": [
            "+--------+\n",
            "|avg(Age)|\n",
            "+--------+\n",
            "|    21.2|\n",
            "+--------+\n",
            "\n"
          ]
        }
      ]
    },
    {
      "cell_type": "code",
      "source": [
        "# PySpark DF API\n",
        "from pyspark.sql.functions import avg\n",
        "df.select(avg(\"age\")).show()"
      ],
      "metadata": {
        "colab": {
          "base_uri": "https://localhost:8080/"
        },
        "id": "6-sQ0bByQ0yv",
        "outputId": "8ed98a0a-98ad-4288-c133-34ab165e9971"
      },
      "execution_count": 15,
      "outputs": [
        {
          "output_type": "stream",
          "name": "stdout",
          "text": [
            "+--------+\n",
            "|avg(age)|\n",
            "+--------+\n",
            "|    21.2|\n",
            "+--------+\n",
            "\n"
          ]
        }
      ]
    },
    {
      "cell_type": "markdown",
      "source": [
        "Fetch students who studying Mathematics using Spark SQL & PySpark DF API"
      ],
      "metadata": {
        "id": "ypiFssafQhr0"
      }
    },
    {
      "cell_type": "code",
      "source": [
        "# Spark SQL\n",
        "spark.sql(\"SELECT * FROM list WHERE subject = 'Math';\").show()"
      ],
      "metadata": {
        "colab": {
          "base_uri": "https://localhost:8080/"
        },
        "id": "L8qo5bhCQjcz",
        "outputId": "41cecf5c-31a4-4da1-ab2e-1ab3d58e6b64"
      },
      "execution_count": 8,
      "outputs": [
        {
          "output_type": "stream",
          "name": "stdout",
          "text": [
            "+-------+---+-----+-------+\n",
            "|   Name|Age|Grade|subject|\n",
            "+-------+---+-----+-------+\n",
            "|  Alice| 20|   85|   Math|\n",
            "|Charlie| 21|   90|   Math|\n",
            "+-------+---+-----+-------+\n",
            "\n"
          ]
        }
      ]
    },
    {
      "cell_type": "code",
      "source": [
        "# PySpark DF API\n",
        "df.filter(df.subject == \"Math\").show()"
      ],
      "metadata": {
        "colab": {
          "base_uri": "https://localhost:8080/"
        },
        "id": "ZWIok2XoQ14h",
        "outputId": "e44e26f7-da15-4b81-9d76-ee3ae3a3ea5d"
      },
      "execution_count": 16,
      "outputs": [
        {
          "output_type": "stream",
          "name": "stdout",
          "text": [
            "+-------+---+-----+-------+\n",
            "|   Name|Age|Grade|subject|\n",
            "+-------+---+-----+-------+\n",
            "|  Alice| 20|   85|   Math|\n",
            "|Charlie| 21|   90|   Math|\n",
            "+-------+---+-----+-------+\n",
            "\n"
          ]
        }
      ]
    },
    {
      "cell_type": "code",
      "source": [
        "spark.stop()"
      ],
      "metadata": {
        "id": "p37AicLeQyYA"
      },
      "execution_count": 17,
      "outputs": []
    }
  ]
}