{
  "nbformat": 4,
  "nbformat_minor": 0,
  "metadata": {
    "colab": {
      "provenance": []
    },
    "kernelspec": {
      "name": "python3",
      "display_name": "Python 3"
    },
    "language_info": {
      "name": "python"
    }
  },
  "cells": [
    {
      "cell_type": "markdown",
      "source": [
        "### Lazy Evaluation Demonstration"
      ],
      "metadata": {
        "id": "kEqvT75P0_Wg"
      }
    },
    {
      "cell_type": "markdown",
      "source": [
        "This output means that the RDD has been defined but the actual data has not been computed yet because no action"
      ],
      "metadata": {
        "id": "TiMXrMUI1G8W"
      }
    },
    {
      "cell_type": "code",
      "execution_count": 1,
      "metadata": {
        "colab": {
          "base_uri": "https://localhost:8080/"
        },
        "id": "kEMv942L3lxU",
        "outputId": "99638e3f-4df1-43e3-cd0e-5276d5226e08"
      },
      "outputs": [
        {
          "output_type": "stream",
          "name": "stdout",
          "text": [
            "PythonRDD[1] at RDD at PythonRDD.scala:53\n"
          ]
        }
      ],
      "source": [
        "from pyspark import SparkContext\n",
        "sc = SparkContext('local', 'Lazy on Pyspark')\n",
        "\n",
        "# Input RDD\n",
        "rdd = sc.parallelize([1, 2, 3, 4, 5, 6])\n",
        "# Keep only even numbers\n",
        "filtered_rdd = rdd.filter(lambda x: x % 2 == 0)\n",
        "print(filtered_rdd) # Lazy: PythonRDD[?] at RDD at PythonRDD.scala:?"
      ]
    },
    {
      "cell_type": "code",
      "source": [
        "# Stop the SparkContext\n",
        "sc.stop()"
      ],
      "metadata": {
        "id": "LEN6PcBd3szP"
      },
      "execution_count": 2,
      "outputs": []
    },
    {
      "cell_type": "markdown",
      "source": [
        "### Spark DataFrame\n",
        "\n",
        "A distributed and immutable collection of data organized into named columns. It is similar to a table in a relational database or a Pandas DataFrame in Python.\n",
        "\n",
        "Spark DataFrames are built on top of RDDs (Resilient Distributed Datasets) and provide high-level APIs for structured data processing."
      ],
      "metadata": {
        "id": "35ItyDga1yNU"
      }
    },
    {
      "cell_type": "code",
      "source": [
        "# Import SparkSession\n",
        "from pyspark.sql import SparkSession\n",
        "# Start SparkSession - Combines all functionalities of SparkContext, SQLContext, and HiveContext into a single API. Also, Supports RDD, DataFrame, and Dataset APIs.\n",
        "# Initialize SparkSession\n",
        "spark = SparkSession.builder.appName(\"DataFrame Basics\").getOrCreate()"
      ],
      "metadata": {
        "id": "mRDUdJLt3z-l"
      },
      "execution_count": 3,
      "outputs": []
    },
    {
      "cell_type": "markdown",
      "source": [
        "#### Read .json file"
      ],
      "metadata": {
        "id": "9UZ9l3Hs2NC1"
      }
    },
    {
      "cell_type": "code",
      "source": [
        "df = spark.read.json('Datasets/people.json')\n",
        "df.show()"
      ],
      "metadata": {
        "colab": {
          "base_uri": "https://localhost:8080/"
        },
        "id": "wnh7RVlh4Cb2",
        "outputId": "db17d8b9-7e4c-4ad7-972f-9b9500998e27"
      },
      "execution_count": 4,
      "outputs": [
        {
          "output_type": "stream",
          "name": "stdout",
          "text": [
            "+--------+----+--------+\n",
            "|Hometown| age|    name|\n",
            "+--------+----+--------+\n",
            "|    NULL|NULL|  Karina|\n",
            "|    NULL|  23| Giselle|\n",
            "|    NULL|  22|  Winter|\n",
            "|  Harbin|NULL|Ningning|\n",
            "+--------+----+--------+\n",
            "\n"
          ]
        }
      ]
    },
    {
      "cell_type": "markdown",
      "source": [
        "#### Show df’s schema"
      ],
      "metadata": {
        "id": "VodrUgkW4zbU"
      }
    },
    {
      "cell_type": "code",
      "source": [
        "df.printSchema()"
      ],
      "metadata": {
        "colab": {
          "base_uri": "https://localhost:8080/"
        },
        "id": "ZSXFYAXP4HEu",
        "outputId": "313857e1-3a8c-44ab-c11d-e05f1febd61c"
      },
      "execution_count": 5,
      "outputs": [
        {
          "output_type": "stream",
          "name": "stdout",
          "text": [
            "root\n",
            " |-- Hometown: string (nullable = true)\n",
            " |-- age: long (nullable = true)\n",
            " |-- name: string (nullable = true)\n",
            "\n"
          ]
        }
      ]
    },
    {
      "cell_type": "markdown",
      "source": [
        "#### Show columns"
      ],
      "metadata": {
        "id": "_RyQHsPj42Xk"
      }
    },
    {
      "cell_type": "code",
      "source": [
        "df.columns # columns is an attribute so no need () ['Hometown', 'age', 'name']"
      ],
      "metadata": {
        "colab": {
          "base_uri": "https://localhost:8080/"
        },
        "id": "KJHus-k34Uxd",
        "outputId": "dda7beb2-bb42-4a08-b57d-1980da170c19"
      },
      "execution_count": 6,
      "outputs": [
        {
          "output_type": "execute_result",
          "data": {
            "text/plain": [
              "['Hometown', 'age', 'name']"
            ]
          },
          "metadata": {},
          "execution_count": 6
        }
      ]
    },
    {
      "cell_type": "markdown",
      "source": [
        "#### Statistical summary of DataFrame"
      ],
      "metadata": {
        "id": "Hy28xiYq46h6"
      }
    },
    {
      "cell_type": "code",
      "source": [
        "df.describe() # DataFrame[summary: string, Hometown: string, age: string, name: string]\n",
        "df.describe().show()"
      ],
      "metadata": {
        "colab": {
          "base_uri": "https://localhost:8080/"
        },
        "id": "wTjFzUfU4YDt",
        "outputId": "465ba8ad-f7dd-4dd2-f894-35a43d775732"
      },
      "execution_count": 7,
      "outputs": [
        {
          "output_type": "stream",
          "name": "stdout",
          "text": [
            "+-------+--------+------------------+-------+\n",
            "|summary|Hometown|               age|   name|\n",
            "+-------+--------+------------------+-------+\n",
            "|  count|       1|                 2|      4|\n",
            "|   mean|    NULL|              22.5|   NULL|\n",
            "| stddev|    NULL|0.7071067811865476|   NULL|\n",
            "|    min|  Harbin|                22|Giselle|\n",
            "|    max|  Harbin|                23| Winter|\n",
            "+-------+--------+------------------+-------+\n",
            "\n"
          ]
        }
      ]
    },
    {
      "cell_type": "markdown",
      "source": [
        "#### Define custom schemas for DataFrames"
      ],
      "metadata": {
        "id": "U9XEvg0N5FWd"
      }
    },
    {
      "cell_type": "code",
      "source": [
        "from pyspark.sql.types import StructField,StringType,IntegerType,StructType\n",
        "data_schema = [\tStructField('age',IntegerType(),True),\n",
        "              \t\tStructField('name',StringType(),True),\n",
        "              \t\tStructField('Hometown',StringType(),True)]"
      ],
      "metadata": {
        "id": "GR7Sibvf4kZp"
      },
      "execution_count": 8,
      "outputs": []
    },
    {
      "cell_type": "code",
      "source": [
        "final_struc = StructType(fields=data_schema)\n",
        "\n",
        "df = spark.read.json('Datasets/people.json', schema = final_struc)\n",
        "df.printSchema()"
      ],
      "metadata": {
        "colab": {
          "base_uri": "https://localhost:8080/"
        },
        "id": "bGyY02PE4qh7",
        "outputId": "aaef9d88-684f-42ef-af3f-d93d9d4e7afc"
      },
      "execution_count": 10,
      "outputs": [
        {
          "output_type": "stream",
          "name": "stdout",
          "text": [
            "root\n",
            " |-- age: integer (nullable = true)\n",
            " |-- name: string (nullable = true)\n",
            " |-- Hometown: string (nullable = true)\n",
            "\n"
          ]
        }
      ]
    },
    {
      "cell_type": "markdown",
      "source": [
        "#### Select a column in PySpark"
      ],
      "metadata": {
        "id": "Bs_gd-qU5NDQ"
      }
    },
    {
      "cell_type": "code",
      "source": [
        "df['name'] # Column<'name'>"
      ],
      "metadata": {
        "colab": {
          "base_uri": "https://localhost:8080/"
        },
        "id": "YctQxlMG4tbz",
        "outputId": "7723a892-c649-4fce-c3b3-fb4c9e363c0b"
      },
      "execution_count": 11,
      "outputs": [
        {
          "output_type": "execute_result",
          "data": {
            "text/plain": [
              "Column<'name'>"
            ]
          },
          "metadata": {},
          "execution_count": 11
        }
      ]
    },
    {
      "cell_type": "code",
      "source": [
        "type(df['name']) # Object"
      ],
      "metadata": {
        "colab": {
          "base_uri": "https://localhost:8080/",
          "height": 187
        },
        "id": "B6VhhZi_5IQ5",
        "outputId": "f1169b3b-0dc5-479a-e71a-3c4e74cc0910"
      },
      "execution_count": 12,
      "outputs": [
        {
          "output_type": "execute_result",
          "data": {
            "text/plain": [
              "pyspark.sql.column.Column"
            ],
            "text/html": [
              "<div style=\"max-width:800px; border: 1px solid var(--colab-border-color);\"><style>\n",
              "      pre.function-repr-contents {\n",
              "        overflow-x: auto;\n",
              "        padding: 8px 12px;\n",
              "        max-height: 500px;\n",
              "      }\n",
              "\n",
              "      pre.function-repr-contents.function-repr-contents-collapsed {\n",
              "        cursor: pointer;\n",
              "        max-height: 100px;\n",
              "      }\n",
              "    </style>\n",
              "    <pre style=\"white-space: initial; background:\n",
              "         var(--colab-secondary-surface-color); padding: 8px 12px;\n",
              "         border-bottom: 1px solid var(--colab-border-color);\"><b>pyspark.sql.column.Column</b><br/>def __init__(jc: JavaObject) -&gt; None</pre><pre class=\"function-repr-contents function-repr-contents-collapsed\" style=\"\"><a class=\"filepath\" style=\"display:none\" href=\"#\">/usr/local/lib/python3.11/dist-packages/pyspark/sql/column.py</a>A column in a DataFrame.\n",
              "\n",
              ".. versionadded:: 1.3.0\n",
              "\n",
              ".. versionchanged:: 3.4.0\n",
              "    Supports Spark Connect.\n",
              "\n",
              "Examples\n",
              "--------\n",
              "Column instances can be created by\n",
              "\n",
              "&gt;&gt;&gt; df = spark.createDataFrame(\n",
              "...      [(2, &quot;Alice&quot;), (5, &quot;Bob&quot;)], [&quot;age&quot;, &quot;name&quot;])\n",
              "\n",
              "Select a column out of a DataFrame\n",
              "&gt;&gt;&gt; df.name\n",
              "Column&lt;&#x27;name&#x27;&gt;\n",
              "&gt;&gt;&gt; df[&quot;name&quot;]\n",
              "Column&lt;&#x27;name&#x27;&gt;\n",
              "\n",
              "Create from an expression\n",
              "\n",
              "&gt;&gt;&gt; df.age + 1\n",
              "Column&lt;...&gt;\n",
              "&gt;&gt;&gt; 1 / df.age\n",
              "Column&lt;...&gt;</pre>\n",
              "      <script>\n",
              "      if (google.colab.kernel.accessAllowed && google.colab.files && google.colab.files.view) {\n",
              "        for (const element of document.querySelectorAll('.filepath')) {\n",
              "          element.style.display = 'block'\n",
              "          element.onclick = (event) => {\n",
              "            event.preventDefault();\n",
              "            event.stopPropagation();\n",
              "            google.colab.files.view(element.textContent, 185);\n",
              "          };\n",
              "        }\n",
              "      }\n",
              "      for (const element of document.querySelectorAll('.function-repr-contents')) {\n",
              "        element.onclick = (event) => {\n",
              "          event.preventDefault();\n",
              "          event.stopPropagation();\n",
              "          element.classList.toggle('function-repr-contents-collapsed');\n",
              "        };\n",
              "      }\n",
              "      </script>\n",
              "      </div>"
            ]
          },
          "metadata": {},
          "execution_count": 12
        }
      ]
    },
    {
      "cell_type": "code",
      "source": [
        "df.select('name') # DataFrame[name: string] #Lazy\n",
        "\n",
        "df.select('name').show() # Trigger execution with actions\n",
        "\n",
        "type(df.select('name')) # DataFrame"
      ],
      "metadata": {
        "colab": {
          "base_uri": "https://localhost:8080/",
          "height": 348
        },
        "id": "ST6uR51v5Pef",
        "outputId": "86f490af-2e8f-4a60-8573-c4fc5556c151"
      },
      "execution_count": 13,
      "outputs": [
        {
          "output_type": "stream",
          "name": "stdout",
          "text": [
            "+--------+\n",
            "|    name|\n",
            "+--------+\n",
            "|  Karina|\n",
            "| Giselle|\n",
            "|  Winter|\n",
            "|Ningning|\n",
            "+--------+\n",
            "\n"
          ]
        },
        {
          "output_type": "execute_result",
          "data": {
            "text/plain": [
              "pyspark.sql.dataframe.DataFrame"
            ],
            "text/html": [
              "<div style=\"max-width:800px; border: 1px solid var(--colab-border-color);\"><style>\n",
              "      pre.function-repr-contents {\n",
              "        overflow-x: auto;\n",
              "        padding: 8px 12px;\n",
              "        max-height: 500px;\n",
              "      }\n",
              "\n",
              "      pre.function-repr-contents.function-repr-contents-collapsed {\n",
              "        cursor: pointer;\n",
              "        max-height: 100px;\n",
              "      }\n",
              "    </style>\n",
              "    <pre style=\"white-space: initial; background:\n",
              "         var(--colab-secondary-surface-color); padding: 8px 12px;\n",
              "         border-bottom: 1px solid var(--colab-border-color);\"><b>pyspark.sql.dataframe.DataFrame</b><br/>def __init__(jdf: JavaObject, sql_ctx: Union[&#x27;SQLContext&#x27;, &#x27;SparkSession&#x27;])</pre><pre class=\"function-repr-contents function-repr-contents-collapsed\" style=\"\"><a class=\"filepath\" style=\"display:none\" href=\"#\">/usr/local/lib/python3.11/dist-packages/pyspark/sql/dataframe.py</a>A distributed collection of data grouped into named columns.\n",
              "\n",
              ".. versionadded:: 1.3.0\n",
              "\n",
              ".. versionchanged:: 3.4.0\n",
              "    Supports Spark Connect.\n",
              "\n",
              "Examples\n",
              "--------\n",
              "A :class:`DataFrame` is equivalent to a relational table in Spark SQL,\n",
              "and can be created using various functions in :class:`SparkSession`:\n",
              "\n",
              "&gt;&gt;&gt; people = spark.createDataFrame([\n",
              "...     {&quot;deptId&quot;: 1, &quot;age&quot;: 40, &quot;name&quot;: &quot;Hyukjin Kwon&quot;, &quot;gender&quot;: &quot;M&quot;, &quot;salary&quot;: 50},\n",
              "...     {&quot;deptId&quot;: 1, &quot;age&quot;: 50, &quot;name&quot;: &quot;Takuya Ueshin&quot;, &quot;gender&quot;: &quot;M&quot;, &quot;salary&quot;: 100},\n",
              "...     {&quot;deptId&quot;: 2, &quot;age&quot;: 60, &quot;name&quot;: &quot;Xinrong Meng&quot;, &quot;gender&quot;: &quot;F&quot;, &quot;salary&quot;: 150},\n",
              "...     {&quot;deptId&quot;: 3, &quot;age&quot;: 20, &quot;name&quot;: &quot;Haejoon Lee&quot;, &quot;gender&quot;: &quot;M&quot;, &quot;salary&quot;: 200}\n",
              "... ])\n",
              "\n",
              "Once created, it can be manipulated using the various domain-specific-language\n",
              "(DSL) functions defined in: :class:`DataFrame`, :class:`Column`.\n",
              "\n",
              "To select a column from the :class:`DataFrame`, use the apply method:\n",
              "\n",
              "&gt;&gt;&gt; age_col = people.age\n",
              "\n",
              "A more concrete example:\n",
              "\n",
              "&gt;&gt;&gt; # To create DataFrame using SparkSession\n",
              "... department = spark.createDataFrame([\n",
              "...     {&quot;id&quot;: 1, &quot;name&quot;: &quot;PySpark&quot;},\n",
              "...     {&quot;id&quot;: 2, &quot;name&quot;: &quot;ML&quot;},\n",
              "...     {&quot;id&quot;: 3, &quot;name&quot;: &quot;Spark SQL&quot;}\n",
              "... ])\n",
              "\n",
              "&gt;&gt;&gt; people.filter(people.age &gt; 30).join(\n",
              "...     department, people.deptId == department.id).groupBy(\n",
              "...     department.name, &quot;gender&quot;).agg({&quot;salary&quot;: &quot;avg&quot;, &quot;age&quot;: &quot;max&quot;}).show()\n",
              "+-------+------+-----------+--------+\n",
              "|   name|gender|avg(salary)|max(age)|\n",
              "+-------+------+-----------+--------+\n",
              "|     ML|     F|      150.0|      60|\n",
              "|PySpark|     M|       75.0|      50|\n",
              "+-------+------+-----------+--------+\n",
              "\n",
              "Notes\n",
              "-----\n",
              "A DataFrame should only be created as described above. It should not be directly\n",
              "created via using the constructor.</pre>\n",
              "      <script>\n",
              "      if (google.colab.kernel.accessAllowed && google.colab.files && google.colab.files.view) {\n",
              "        for (const element of document.querySelectorAll('.filepath')) {\n",
              "          element.style.display = 'block'\n",
              "          element.onclick = (event) => {\n",
              "            event.preventDefault();\n",
              "            event.stopPropagation();\n",
              "            google.colab.files.view(element.textContent, 80);\n",
              "          };\n",
              "        }\n",
              "      }\n",
              "      for (const element of document.querySelectorAll('.function-repr-contents')) {\n",
              "        element.onclick = (event) => {\n",
              "          event.preventDefault();\n",
              "          event.stopPropagation();\n",
              "          element.classList.toggle('function-repr-contents-collapsed');\n",
              "        };\n",
              "      }\n",
              "      </script>\n",
              "      </div>"
            ]
          },
          "metadata": {},
          "execution_count": 13
        }
      ]
    },
    {
      "cell_type": "markdown",
      "source": [
        "#### head(n) to select the first n rows"
      ],
      "metadata": {
        "id": "kYxCEjfR5fFQ"
      }
    },
    {
      "cell_type": "code",
      "source": [
        "df.head(2) # List"
      ],
      "metadata": {
        "colab": {
          "base_uri": "https://localhost:8080/"
        },
        "id": "REXcSVLr5Uu1",
        "outputId": "040587fb-7714-4643-e1fa-1a58e55a3bda"
      },
      "execution_count": 14,
      "outputs": [
        {
          "output_type": "execute_result",
          "data": {
            "text/plain": [
              "[Row(age=None, name='Karina', Hometown=None),\n",
              " Row(age=23, name='Giselle', Hometown=None)]"
            ]
          },
          "metadata": {},
          "execution_count": 14
        }
      ]
    },
    {
      "cell_type": "code",
      "source": [
        "# You can access a list element by its index and return it as a Row object.\n",
        "\n",
        "df.head(2)[0] # pyspark.sql.types.Row"
      ],
      "metadata": {
        "colab": {
          "base_uri": "https://localhost:8080/"
        },
        "id": "wMa8mAKK5dPg",
        "outputId": "c767121e-669e-43be-f524-744efd5550c2"
      },
      "execution_count": 15,
      "outputs": [
        {
          "output_type": "execute_result",
          "data": {
            "text/plain": [
              "Row(age=None, name='Karina', Hometown=None)"
            ]
          },
          "metadata": {},
          "execution_count": 15
        }
      ]
    },
    {
      "cell_type": "markdown",
      "source": [
        "#### Select multiple columns"
      ],
      "metadata": {
        "id": "FCr2mqL555FY"
      }
    },
    {
      "cell_type": "code",
      "source": [
        "df.select(['age','name']) # DataFrame[age: int, name: string]"
      ],
      "metadata": {
        "colab": {
          "base_uri": "https://localhost:8080/"
        },
        "id": "1C0CsXz45f7d",
        "outputId": "b704546f-6317-4f7e-989e-fd57835c2420"
      },
      "execution_count": 16,
      "outputs": [
        {
          "output_type": "execute_result",
          "data": {
            "text/plain": [
              "DataFrame[age: int, name: string]"
            ]
          },
          "metadata": {},
          "execution_count": 16
        }
      ]
    },
    {
      "cell_type": "code",
      "source": [
        "df.select(['age','name']).show()"
      ],
      "metadata": {
        "colab": {
          "base_uri": "https://localhost:8080/"
        },
        "id": "LEpqZ_Nl5m0x",
        "outputId": "3361fbcd-73df-4cac-a61a-9a5b609bc1f1"
      },
      "execution_count": 17,
      "outputs": [
        {
          "output_type": "stream",
          "name": "stdout",
          "text": [
            "+----+--------+\n",
            "| age|    name|\n",
            "+----+--------+\n",
            "|NULL|  Karina|\n",
            "|  23| Giselle|\n",
            "|  22|  Winter|\n",
            "|NULL|Ningning|\n",
            "+----+--------+\n",
            "\n"
          ]
        }
      ]
    },
    {
      "cell_type": "markdown",
      "source": [
        "#### Create a new column using withColumn()"
      ],
      "metadata": {
        "id": "QTutpF1x579S"
      }
    },
    {
      "cell_type": "code",
      "source": [
        "df.withColumn('double_age', df['age']*2).show() # The change is temporarily !"
      ],
      "metadata": {
        "colab": {
          "base_uri": "https://localhost:8080/"
        },
        "id": "YDwUFKjS5que",
        "outputId": "23122312-913e-4da1-af90-6ea047233005"
      },
      "execution_count": 18,
      "outputs": [
        {
          "output_type": "stream",
          "name": "stdout",
          "text": [
            "+----+--------+--------+----------+\n",
            "| age|    name|Hometown|double_age|\n",
            "+----+--------+--------+----------+\n",
            "|NULL|  Karina|    NULL|      NULL|\n",
            "|  23| Giselle|    NULL|        46|\n",
            "|  22|  Winter|    NULL|        44|\n",
            "|NULL|Ningning|  Harbin|      NULL|\n",
            "+----+--------+--------+----------+\n",
            "\n"
          ]
        }
      ]
    },
    {
      "cell_type": "code",
      "source": [
        "# withColumn() is not an in-place operation; we need to save the result to a new variable.\n",
        "\n",
        "df.withColumn('double_age', df['age']*2).show() # The change is temporarily !\n",
        "df.show()"
      ],
      "metadata": {
        "colab": {
          "base_uri": "https://localhost:8080/"
        },
        "id": "lQZm6U6C5tYW",
        "outputId": "c25af0fb-9da1-406d-ae72-64e2a0d3a385"
      },
      "execution_count": 19,
      "outputs": [
        {
          "output_type": "stream",
          "name": "stdout",
          "text": [
            "+----+--------+--------+----------+\n",
            "| age|    name|Hometown|double_age|\n",
            "+----+--------+--------+----------+\n",
            "|NULL|  Karina|    NULL|      NULL|\n",
            "|  23| Giselle|    NULL|        46|\n",
            "|  22|  Winter|    NULL|        44|\n",
            "|NULL|Ningning|  Harbin|      NULL|\n",
            "+----+--------+--------+----------+\n",
            "\n",
            "+----+--------+--------+\n",
            "| age|    name|Hometown|\n",
            "+----+--------+--------+\n",
            "|NULL|  Karina|    NULL|\n",
            "|  23| Giselle|    NULL|\n",
            "|  22|  Winter|    NULL|\n",
            "|NULL|Ningning|  Harbin|\n",
            "+----+--------+--------+\n",
            "\n"
          ]
        }
      ]
    },
    {
      "cell_type": "code",
      "source": [
        "df_new = df.withColumn('double_age', df['age']*2) # New variable df_new\n",
        "df_new.show()"
      ],
      "metadata": {
        "colab": {
          "base_uri": "https://localhost:8080/"
        },
        "id": "vWIs7-Nz57u5",
        "outputId": "c5af95a6-72ff-495b-8f81-b8d33ea1e078"
      },
      "execution_count": 20,
      "outputs": [
        {
          "output_type": "stream",
          "name": "stdout",
          "text": [
            "+----+--------+--------+----------+\n",
            "| age|    name|Hometown|double_age|\n",
            "+----+--------+--------+----------+\n",
            "|NULL|  Karina|    NULL|      NULL|\n",
            "|  23| Giselle|    NULL|        46|\n",
            "|  22|  Winter|    NULL|        44|\n",
            "|NULL|Ningning|  Harbin|      NULL|\n",
            "+----+--------+--------+----------+\n",
            "\n"
          ]
        }
      ]
    },
    {
      "cell_type": "markdown",
      "source": [
        "#### Rename a column"
      ],
      "metadata": {
        "id": "yjUl927s6hwY"
      }
    },
    {
      "cell_type": "code",
      "source": [
        "df.withColumnRenamed('age','my_new_age').show() #Action"
      ],
      "metadata": {
        "colab": {
          "base_uri": "https://localhost:8080/"
        },
        "id": "LibikSWF6AZp",
        "outputId": "ee18b9c8-9b9f-446d-8625-814d839eb539"
      },
      "execution_count": 21,
      "outputs": [
        {
          "output_type": "stream",
          "name": "stdout",
          "text": [
            "+----------+--------+--------+\n",
            "|my_new_age|    name|Hometown|\n",
            "+----------+--------+--------+\n",
            "|      NULL|  Karina|    NULL|\n",
            "|        23| Giselle|    NULL|\n",
            "|        22|  Winter|    NULL|\n",
            "|      NULL|Ningning|  Harbin|\n",
            "+----------+--------+--------+\n",
            "\n"
          ]
        }
      ]
    },
    {
      "cell_type": "markdown",
      "source": [
        "### Spark SQL\n",
        "\n",
        "- supports standard SQL syntax\n",
        "- Can process structured data like CSV, JSON, Parquet, ORC, and Avro."
      ],
      "metadata": {
        "id": "0H83OQPl7Jv1"
      }
    },
    {
      "cell_type": "markdown",
      "source": [
        "#### Using Spark SQL"
      ],
      "metadata": {
        "id": "U86_iJoQ7amf"
      }
    },
    {
      "cell_type": "code",
      "source": [
        "df.createOrReplaceTempView(\"people\")"
      ],
      "metadata": {
        "id": "EaxAPxew6LL7"
      },
      "execution_count": 22,
      "outputs": []
    },
    {
      "cell_type": "markdown",
      "source": [
        "Select all rows"
      ],
      "metadata": {
        "id": "bSMxUXGU7fsF"
      }
    },
    {
      "cell_type": "code",
      "source": [
        "# Query 1: Select All Rows python\n",
        "spark.sql(\"SELECT * FROM people\").show()"
      ],
      "metadata": {
        "colab": {
          "base_uri": "https://localhost:8080/"
        },
        "id": "4fxaSwiw6RPs",
        "outputId": "50d3c15c-1517-4486-c6ad-0b40e2de7ddd"
      },
      "execution_count": 23,
      "outputs": [
        {
          "output_type": "stream",
          "name": "stdout",
          "text": [
            "+----+--------+--------+\n",
            "| age|    name|Hometown|\n",
            "+----+--------+--------+\n",
            "|NULL|  Karina|    NULL|\n",
            "|  23| Giselle|    NULL|\n",
            "|  22|  Winter|    NULL|\n",
            "|NULL|Ningning|  Harbin|\n",
            "+----+--------+--------+\n",
            "\n"
          ]
        }
      ]
    },
    {
      "cell_type": "markdown",
      "source": [
        "Filter rows"
      ],
      "metadata": {
        "id": "h7VLrKQb7jTN"
      }
    },
    {
      "cell_type": "code",
      "source": [
        "# Query 2: Filter Rows with Non-NULL age\n",
        "spark.sql(\"SELECT * FROM people WHERE age IS NOT NULL\").show()"
      ],
      "metadata": {
        "colab": {
          "base_uri": "https://localhost:8080/"
        },
        "id": "YMpHAQkS6Y2m",
        "outputId": "2045eae8-af3a-43a7-a3ee-08407d08b848"
      },
      "execution_count": 24,
      "outputs": [
        {
          "output_type": "stream",
          "name": "stdout",
          "text": [
            "+---+-------+--------+\n",
            "|age|   name|Hometown|\n",
            "+---+-------+--------+\n",
            "| 23|Giselle|    NULL|\n",
            "| 22| Winter|    NULL|\n",
            "+---+-------+--------+\n",
            "\n"
          ]
        }
      ]
    },
    {
      "cell_type": "markdown",
      "source": [
        "Select based on a condition"
      ],
      "metadata": {
        "id": "byul6uMN7m5e"
      }
    },
    {
      "cell_type": "code",
      "source": [
        "results = spark.sql(\"SELECT * FROM people WHERE age = 22\")\n",
        "results.show()"
      ],
      "metadata": {
        "colab": {
          "base_uri": "https://localhost:8080/"
        },
        "id": "nQ_CzzNF6ahb",
        "outputId": "10ce9d1c-97f9-467f-a529-4d027f952ced"
      },
      "execution_count": 25,
      "outputs": [
        {
          "output_type": "stream",
          "name": "stdout",
          "text": [
            "+---+------+--------+\n",
            "|age|  name|Hometown|\n",
            "+---+------+--------+\n",
            "| 22|Winter|    NULL|\n",
            "+---+------+--------+\n",
            "\n"
          ]
        }
      ]
    },
    {
      "cell_type": "markdown",
      "source": [
        "Close the SparkSession"
      ],
      "metadata": {
        "id": "dyRaRvAX7qcL"
      }
    },
    {
      "cell_type": "code",
      "source": [
        "spark.stop()"
      ],
      "metadata": {
        "id": "77o8UETc6gJm"
      },
      "execution_count": 26,
      "outputs": []
    },
    {
      "cell_type": "markdown",
      "source": [
        "#### Basic Operations"
      ],
      "metadata": {
        "id": "I0zUKhtp7z96"
      }
    },
    {
      "cell_type": "markdown",
      "source": [
        "Read CSV file"
      ],
      "metadata": {
        "id": "ZQT7lER98FzX"
      }
    },
    {
      "cell_type": "code",
      "source": [
        "from pyspark.sql import SparkSession\n",
        "spark = SparkSession.builder.appName(\"Basic Operations\").getOrCreate()\n",
        "\n",
        "df = spark.read.csv('Datasets/appl_stock.csv', inferSchema=True, header=True)\n",
        "df.printSchema()"
      ],
      "metadata": {
        "colab": {
          "base_uri": "https://localhost:8080/"
        },
        "id": "IKl0KXWx6kkg",
        "outputId": "ab9336b9-ee8f-481b-da3c-998fcb375c94"
      },
      "execution_count": 27,
      "outputs": [
        {
          "output_type": "stream",
          "name": "stdout",
          "text": [
            "root\n",
            " |-- Date: date (nullable = true)\n",
            " |-- Open: double (nullable = true)\n",
            " |-- High: double (nullable = true)\n",
            " |-- Low: double (nullable = true)\n",
            " |-- Close: double (nullable = true)\n",
            " |-- Volume: integer (nullable = true)\n",
            " |-- Adj Close: double (nullable = true)\n",
            "\n"
          ]
        }
      ]
    },
    {
      "cell_type": "markdown",
      "source": [
        "Show the data"
      ],
      "metadata": {
        "id": "37-GxcVg8V23"
      }
    },
    {
      "cell_type": "code",
      "source": [
        "df.show()"
      ],
      "metadata": {
        "colab": {
          "base_uri": "https://localhost:8080/"
        },
        "id": "Wbvo5otm6mt9",
        "outputId": "a116e117-e31e-4c37-fc8a-bf88093fcd35"
      },
      "execution_count": 28,
      "outputs": [
        {
          "output_type": "stream",
          "name": "stdout",
          "text": [
            "+----------+------------------+------------------+------------------+------------------+---------+------------------+\n",
            "|      Date|              Open|              High|               Low|             Close|   Volume|         Adj Close|\n",
            "+----------+------------------+------------------+------------------+------------------+---------+------------------+\n",
            "|2010-01-04|        213.429998|        214.499996|212.38000099999996|        214.009998|123432400|         27.727039|\n",
            "|2010-01-05|        214.599998|        215.589994|        213.249994|        214.379993|150476200|27.774976000000002|\n",
            "|2010-01-06|        214.379993|            215.23|        210.750004|        210.969995|138040000|27.333178000000004|\n",
            "|2010-01-07|            211.75|        212.000006|        209.050005|            210.58|119282800|          27.28265|\n",
            "|2010-01-08|        210.299994|        212.000006|209.06000500000002|211.98000499999998|111902700|         27.464034|\n",
            "|2010-01-11|212.79999700000002|        213.000002|        208.450005|210.11000299999998|115557400|         27.221758|\n",
            "|2010-01-12|209.18999499999998|209.76999500000002|        206.419998|        207.720001|148614900|          26.91211|\n",
            "|2010-01-13|        207.870005|210.92999500000002|        204.099998|        210.650002|151473000|          27.29172|\n",
            "|2010-01-14|210.11000299999998|210.45999700000002|        209.020004|            209.43|108223500|         27.133657|\n",
            "|2010-01-15|210.92999500000002|211.59999700000003|        205.869999|            205.93|148516900|26.680197999999997|\n",
            "|2010-01-19|        208.330002|215.18999900000003|        207.240004|        215.039995|182501900|27.860484999999997|\n",
            "|2010-01-20|        214.910006|        215.549994|        209.500002|            211.73|153038200|         27.431644|\n",
            "|2010-01-21|        212.079994|213.30999599999998|        207.210003|        208.069996|152038600|         26.957455|\n",
            "|2010-01-22|206.78000600000001|        207.499996|            197.16|            197.75|220441900|         25.620401|\n",
            "|2010-01-25|202.51000200000001|        204.699999|        200.190002|        203.070002|266424900|26.309658000000002|\n",
            "|2010-01-26|205.95000100000001|        213.710005|        202.580004|        205.940001|466777500|         26.681494|\n",
            "|2010-01-27|        206.849995|            210.58|        199.530001|        207.880005|430642100|26.932840000000002|\n",
            "|2010-01-28|        204.930004|        205.500004|        198.699995|        199.289995|293375600|25.819922000000002|\n",
            "|2010-01-29|        201.079996|        202.199995|        190.250002|        192.060003|311488100|         24.883208|\n",
            "|2010-02-01|192.36999699999998|             196.0|191.29999899999999|        194.729998|187469100|         25.229131|\n",
            "+----------+------------------+------------------+------------------+------------------+---------+------------------+\n",
            "only showing top 20 rows\n",
            "\n"
          ]
        }
      ]
    },
    {
      "cell_type": "markdown",
      "source": [
        "Count the number of rows"
      ],
      "metadata": {
        "id": "dBF9PQsN8Zrs"
      }
    },
    {
      "cell_type": "code",
      "source": [
        "df.count() # 1762"
      ],
      "metadata": {
        "colab": {
          "base_uri": "https://localhost:8080/"
        },
        "id": "xgZdHOSy6q13",
        "outputId": "4b0f906f-3dc7-4a2a-b56a-8411c805d675"
      },
      "execution_count": 29,
      "outputs": [
        {
          "output_type": "execute_result",
          "data": {
            "text/plain": [
              "1762"
            ]
          },
          "metadata": {},
          "execution_count": 29
        }
      ]
    },
    {
      "cell_type": "markdown",
      "source": [
        "Display first 3 rows"
      ],
      "metadata": {
        "id": "YoPZ4u4T8eK_"
      }
    },
    {
      "cell_type": "code",
      "source": [
        "df.head(3) #list"
      ],
      "metadata": {
        "colab": {
          "base_uri": "https://localhost:8080/"
        },
        "id": "vm8jUMdI6tYY",
        "outputId": "f0a53304-5bb8-47fa-e83a-3b0f61ed6fdd"
      },
      "execution_count": 30,
      "outputs": [
        {
          "output_type": "execute_result",
          "data": {
            "text/plain": [
              "[Row(Date=datetime.date(2010, 1, 4), Open=213.429998, High=214.499996, Low=212.38000099999996, Close=214.009998, Volume=123432400, Adj Close=27.727039),\n",
              " Row(Date=datetime.date(2010, 1, 5), Open=214.599998, High=215.589994, Low=213.249994, Close=214.379993, Volume=150476200, Adj Close=27.774976000000002),\n",
              " Row(Date=datetime.date(2010, 1, 6), Open=214.379993, High=215.23, Low=210.750004, Close=210.969995, Volume=138040000, Adj Close=27.333178000000004)]"
            ]
          },
          "metadata": {},
          "execution_count": 30
        }
      ]
    },
    {
      "cell_type": "markdown",
      "source": [
        "Filter the data"
      ],
      "metadata": {
        "id": "ivgbI1Qj8gtv"
      }
    },
    {
      "cell_type": "code",
      "source": [
        "df.filter(\"Close > 500\").show() # SQL Syntax"
      ],
      "metadata": {
        "colab": {
          "base_uri": "https://localhost:8080/"
        },
        "id": "W49vmdJw6xHs",
        "outputId": "cca312e5-277f-49b9-a307-69b4a14701eb"
      },
      "execution_count": 31,
      "outputs": [
        {
          "output_type": "stream",
          "name": "stdout",
          "text": [
            "+----------+------------------+------------------+------------------+------------------+---------+-----------------+\n",
            "|      Date|              Open|              High|               Low|             Close|   Volume|        Adj Close|\n",
            "+----------+------------------+------------------+------------------+------------------+---------+-----------------+\n",
            "|2012-02-13|        499.529991|503.83000899999996|497.08998899999995|502.60002099999997|129304000|        65.116633|\n",
            "|2012-02-14|        504.659988|         509.56002|        502.000008|        509.459991|115099600|        66.005408|\n",
            "|2012-02-16|        491.500008|        504.890007|         486.62999|502.20999900000004|236138000|        65.066102|\n",
            "|2012-02-17|        503.109993|507.77002000000005|        500.299995|         502.12001|133951300|        65.054443|\n",
            "|2012-02-21|506.88001299999996|        514.850021|504.12000300000005|        514.850021|151398800|        66.703738|\n",
            "|2012-02-22|        513.079994|        515.489983|509.07002300000005|        513.039993|120825600|66.46923100000001|\n",
            "|2012-02-23|        515.079987|        517.830009|        509.499992| 516.3899769999999|142006900|        66.903253|\n",
            "|2012-02-24| 519.6699980000001|        522.899979| 518.6400150000001| 522.4099809999999|103768000|        67.683203|\n",
            "|2012-02-27|        521.309982|             528.5| 516.2800139999999|        525.760017|136895500|        68.117232|\n",
            "|2012-02-28|        527.960014|        535.410011|        525.850006|        535.410011|150096800|69.36748100000001|\n",
            "|2012-02-29| 541.5600049999999| 547.6100230000001|        535.700005|        542.440025|238002800|        70.278286|\n",
            "|2012-03-01|        548.169983|        548.209984| 538.7699809999999| 544.4699780000001|170817500|        70.541286|\n",
            "|2012-03-02|        544.240013|        546.800018|        542.519974|        545.180008|107928100|        70.633277|\n",
            "|2012-03-05|        545.420013|         547.47998|        526.000023| 533.1600269999999|202281100|        69.075974|\n",
            "|2012-03-06|        523.659996|        533.690025| 516.2199860000001|        530.259987|202559700|68.70024599999999|\n",
            "|2012-03-07| 536.8000030000001|        537.779999|        523.299988| 530.6900099999999|199630200|68.75595899999999|\n",
            "|2012-03-08| 534.6899950000001|        542.989998|        532.120003|        541.989975|129114300|        70.219978|\n",
            "|2012-03-09|        544.209999|        547.740013|        543.110001|        545.170021|104729800|70.63198299999999|\n",
            "|2012-03-12| 548.9799879999999|        551.999977|        547.000023|        551.999977|101820600|        71.516869|\n",
            "|2012-03-13|        557.540024|            568.18|        555.750023|        568.099998|172713800|73.60278100000001|\n",
            "+----------+------------------+------------------+------------------+------------------+---------+-----------------+\n",
            "only showing top 20 rows\n",
            "\n"
          ]
        }
      ]
    },
    {
      "cell_type": "markdown",
      "source": [
        "Spark SQL API"
      ],
      "metadata": {
        "id": "HsxKA5t98ouO"
      }
    },
    {
      "cell_type": "code",
      "source": [
        "df.createOrReplaceTempView(\"apple\")\n",
        "\n",
        "spark.sql(\"select * from apple where Close > 500\").show()"
      ],
      "metadata": {
        "colab": {
          "base_uri": "https://localhost:8080/"
        },
        "id": "FtLSbZLs62VE",
        "outputId": "88cbd77d-ac9c-49e4-be0f-232195d22083"
      },
      "execution_count": 32,
      "outputs": [
        {
          "output_type": "stream",
          "name": "stdout",
          "text": [
            "+----------+------------------+------------------+------------------+------------------+---------+-----------------+\n",
            "|      Date|              Open|              High|               Low|             Close|   Volume|        Adj Close|\n",
            "+----------+------------------+------------------+------------------+------------------+---------+-----------------+\n",
            "|2012-02-13|        499.529991|503.83000899999996|497.08998899999995|502.60002099999997|129304000|        65.116633|\n",
            "|2012-02-14|        504.659988|         509.56002|        502.000008|        509.459991|115099600|        66.005408|\n",
            "|2012-02-16|        491.500008|        504.890007|         486.62999|502.20999900000004|236138000|        65.066102|\n",
            "|2012-02-17|        503.109993|507.77002000000005|        500.299995|         502.12001|133951300|        65.054443|\n",
            "|2012-02-21|506.88001299999996|        514.850021|504.12000300000005|        514.850021|151398800|        66.703738|\n",
            "|2012-02-22|        513.079994|        515.489983|509.07002300000005|        513.039993|120825600|66.46923100000001|\n",
            "|2012-02-23|        515.079987|        517.830009|        509.499992| 516.3899769999999|142006900|        66.903253|\n",
            "|2012-02-24| 519.6699980000001|        522.899979| 518.6400150000001| 522.4099809999999|103768000|        67.683203|\n",
            "|2012-02-27|        521.309982|             528.5| 516.2800139999999|        525.760017|136895500|        68.117232|\n",
            "|2012-02-28|        527.960014|        535.410011|        525.850006|        535.410011|150096800|69.36748100000001|\n",
            "|2012-02-29| 541.5600049999999| 547.6100230000001|        535.700005|        542.440025|238002800|        70.278286|\n",
            "|2012-03-01|        548.169983|        548.209984| 538.7699809999999| 544.4699780000001|170817500|        70.541286|\n",
            "|2012-03-02|        544.240013|        546.800018|        542.519974|        545.180008|107928100|        70.633277|\n",
            "|2012-03-05|        545.420013|         547.47998|        526.000023| 533.1600269999999|202281100|        69.075974|\n",
            "|2012-03-06|        523.659996|        533.690025| 516.2199860000001|        530.259987|202559700|68.70024599999999|\n",
            "|2012-03-07| 536.8000030000001|        537.779999|        523.299988| 530.6900099999999|199630200|68.75595899999999|\n",
            "|2012-03-08| 534.6899950000001|        542.989998|        532.120003|        541.989975|129114300|        70.219978|\n",
            "|2012-03-09|        544.209999|        547.740013|        543.110001|        545.170021|104729800|70.63198299999999|\n",
            "|2012-03-12| 548.9799879999999|        551.999977|        547.000023|        551.999977|101820600|        71.516869|\n",
            "|2012-03-13|        557.540024|            568.18|        555.750023|        568.099998|172713800|73.60278100000001|\n",
            "+----------+------------------+------------------+------------------+------------------+---------+-----------------+\n",
            "only showing top 20 rows\n",
            "\n"
          ]
        }
      ]
    },
    {
      "cell_type": "markdown",
      "source": [
        "Select only one column based on filtered"
      ],
      "metadata": {
        "id": "Olvv7Ar78rpm"
      }
    },
    {
      "cell_type": "code",
      "source": [
        "df.filter(\"Close > 500\").select('close').show()"
      ],
      "metadata": {
        "colab": {
          "base_uri": "https://localhost:8080/"
        },
        "id": "ohVWn4CL66Fp",
        "outputId": "5cd9c060-b58a-45a3-edf7-79fd5a326078"
      },
      "execution_count": 33,
      "outputs": [
        {
          "output_type": "stream",
          "name": "stdout",
          "text": [
            "+------------------+\n",
            "|             close|\n",
            "+------------------+\n",
            "|502.60002099999997|\n",
            "|        509.459991|\n",
            "|502.20999900000004|\n",
            "|         502.12001|\n",
            "|        514.850021|\n",
            "|        513.039993|\n",
            "| 516.3899769999999|\n",
            "| 522.4099809999999|\n",
            "|        525.760017|\n",
            "|        535.410011|\n",
            "|        542.440025|\n",
            "| 544.4699780000001|\n",
            "|        545.180008|\n",
            "| 533.1600269999999|\n",
            "|        530.259987|\n",
            "| 530.6900099999999|\n",
            "|        541.989975|\n",
            "|        545.170021|\n",
            "|        551.999977|\n",
            "|        568.099998|\n",
            "+------------------+\n",
            "only showing top 20 rows\n",
            "\n"
          ]
        }
      ]
    },
    {
      "cell_type": "markdown",
      "source": [
        "Select multiple columns based on filtered"
      ],
      "metadata": {
        "id": "b6mdCIbm9bAi"
      }
    },
    {
      "cell_type": "code",
      "source": [
        "df.filter(\"Close > 500\").select(['open','close']).show()"
      ],
      "metadata": {
        "colab": {
          "base_uri": "https://localhost:8080/"
        },
        "id": "TfqbPTzQ69I6",
        "outputId": "81fb36bb-e720-4635-ac8e-75b663ba6e48"
      },
      "execution_count": 34,
      "outputs": [
        {
          "output_type": "stream",
          "name": "stdout",
          "text": [
            "+------------------+------------------+\n",
            "|              open|             close|\n",
            "+------------------+------------------+\n",
            "|        499.529991|502.60002099999997|\n",
            "|        504.659988|        509.459991|\n",
            "|        491.500008|502.20999900000004|\n",
            "|        503.109993|         502.12001|\n",
            "|506.88001299999996|        514.850021|\n",
            "|        513.079994|        513.039993|\n",
            "|        515.079987| 516.3899769999999|\n",
            "| 519.6699980000001| 522.4099809999999|\n",
            "|        521.309982|        525.760017|\n",
            "|        527.960014|        535.410011|\n",
            "| 541.5600049999999|        542.440025|\n",
            "|        548.169983| 544.4699780000001|\n",
            "|        544.240013|        545.180008|\n",
            "|        545.420013| 533.1600269999999|\n",
            "|        523.659996|        530.259987|\n",
            "| 536.8000030000001| 530.6900099999999|\n",
            "| 534.6899950000001|        541.989975|\n",
            "|        544.209999|        545.170021|\n",
            "| 548.9799879999999|        551.999977|\n",
            "|        557.540024|        568.099998|\n",
            "+------------------+------------------+\n",
            "only showing top 20 rows\n",
            "\n"
          ]
        }
      ]
    },
    {
      "cell_type": "markdown",
      "source": [
        "Using PySpark Syntax"
      ],
      "metadata": {
        "id": "pEJJiJvF9gSl"
      }
    },
    {
      "cell_type": "code",
      "source": [
        "# df.filter(\"Close > 500\").show() # SQL Syntax\n",
        "\n",
        "df.filter(df['Close'] > 500).show() #PySpark Syntax"
      ],
      "metadata": {
        "colab": {
          "base_uri": "https://localhost:8080/"
        },
        "id": "HaYDNFDk7Bpq",
        "outputId": "b4daadb2-6c83-462e-fd50-1ddfb3869e40"
      },
      "execution_count": 35,
      "outputs": [
        {
          "output_type": "stream",
          "name": "stdout",
          "text": [
            "+----------+------------------+------------------+------------------+------------------+---------+-----------------+\n",
            "|      Date|              Open|              High|               Low|             Close|   Volume|        Adj Close|\n",
            "+----------+------------------+------------------+------------------+------------------+---------+-----------------+\n",
            "|2012-02-13|        499.529991|503.83000899999996|497.08998899999995|502.60002099999997|129304000|        65.116633|\n",
            "|2012-02-14|        504.659988|         509.56002|        502.000008|        509.459991|115099600|        66.005408|\n",
            "|2012-02-16|        491.500008|        504.890007|         486.62999|502.20999900000004|236138000|        65.066102|\n",
            "|2012-02-17|        503.109993|507.77002000000005|        500.299995|         502.12001|133951300|        65.054443|\n",
            "|2012-02-21|506.88001299999996|        514.850021|504.12000300000005|        514.850021|151398800|        66.703738|\n",
            "|2012-02-22|        513.079994|        515.489983|509.07002300000005|        513.039993|120825600|66.46923100000001|\n",
            "|2012-02-23|        515.079987|        517.830009|        509.499992| 516.3899769999999|142006900|        66.903253|\n",
            "|2012-02-24| 519.6699980000001|        522.899979| 518.6400150000001| 522.4099809999999|103768000|        67.683203|\n",
            "|2012-02-27|        521.309982|             528.5| 516.2800139999999|        525.760017|136895500|        68.117232|\n",
            "|2012-02-28|        527.960014|        535.410011|        525.850006|        535.410011|150096800|69.36748100000001|\n",
            "|2012-02-29| 541.5600049999999| 547.6100230000001|        535.700005|        542.440025|238002800|        70.278286|\n",
            "|2012-03-01|        548.169983|        548.209984| 538.7699809999999| 544.4699780000001|170817500|        70.541286|\n",
            "|2012-03-02|        544.240013|        546.800018|        542.519974|        545.180008|107928100|        70.633277|\n",
            "|2012-03-05|        545.420013|         547.47998|        526.000023| 533.1600269999999|202281100|        69.075974|\n",
            "|2012-03-06|        523.659996|        533.690025| 516.2199860000001|        530.259987|202559700|68.70024599999999|\n",
            "|2012-03-07| 536.8000030000001|        537.779999|        523.299988| 530.6900099999999|199630200|68.75595899999999|\n",
            "|2012-03-08| 534.6899950000001|        542.989998|        532.120003|        541.989975|129114300|        70.219978|\n",
            "|2012-03-09|        544.209999|        547.740013|        543.110001|        545.170021|104729800|70.63198299999999|\n",
            "|2012-03-12| 548.9799879999999|        551.999977|        547.000023|        551.999977|101820600|        71.516869|\n",
            "|2012-03-13|        557.540024|            568.18|        555.750023|        568.099998|172713800|73.60278100000001|\n",
            "+----------+------------------+------------------+------------------+------------------+---------+-----------------+\n",
            "only showing top 20 rows\n",
            "\n"
          ]
        }
      ]
    },
    {
      "cell_type": "markdown",
      "source": [
        "Select based on multiple conditions"
      ],
      "metadata": {
        "id": "_aYm9yHv9jNO"
      }
    },
    {
      "cell_type": "code",
      "source": [
        "# df.filter(\"Close < 200 and Open > 200 \").show() #SQL Syntax\n",
        "# df.filter(df['close'] < 200 & df['open'] > 200).show() # Py4JError\n",
        "# Select the Date where the stock opened at more than 200 and closed at less than 200.\n",
        "df.filter((df['close'] < 200) & (df['open'] > 200)).show()"
      ],
      "metadata": {
        "colab": {
          "base_uri": "https://localhost:8080/"
        },
        "id": "abVfWquF7GY2",
        "outputId": "91fdd5b9-cb8e-4c62-9017-f648c8156cba"
      },
      "execution_count": 36,
      "outputs": [
        {
          "output_type": "stream",
          "name": "stdout",
          "text": [
            "+----------+------------------+----------+----------+----------+---------+------------------+\n",
            "|      Date|              Open|      High|       Low|     Close|   Volume|         Adj Close|\n",
            "+----------+------------------+----------+----------+----------+---------+------------------+\n",
            "|2010-01-22|206.78000600000001|207.499996|    197.16|    197.75|220441900|         25.620401|\n",
            "|2010-01-28|        204.930004|205.500004|198.699995|199.289995|293375600|25.819922000000002|\n",
            "|2010-01-29|        201.079996|202.199995|190.250002|192.060003|311488100|         24.883208|\n",
            "+----------+------------------+----------+----------+----------+---------+------------------+\n",
            "\n"
          ]
        }
      ]
    },
    {
      "cell_type": "markdown",
      "source": [
        "You can use the ~ (tilde symbol) to represent NOT in conditions."
      ],
      "metadata": {
        "id": "Cyyhmbke9qe4"
      }
    },
    {
      "cell_type": "code",
      "source": [
        "# Select the Date where the stock opened at no more than 200 and closed at less than 200.\n",
        "df.filter((df['close'] < 200) & ~(df['open'] > 200)).show()"
      ],
      "metadata": {
        "colab": {
          "base_uri": "https://localhost:8080/"
        },
        "id": "Dh0MdVkk7ITe",
        "outputId": "04a80265-af33-4d98-f726-ca67924e1d93"
      },
      "execution_count": 38,
      "outputs": [
        {
          "output_type": "stream",
          "name": "stdout",
          "text": [
            "+----------+------------------+------------------+------------------+------------------+---------+------------------+\n",
            "|      Date|              Open|              High|               Low|             Close|   Volume|         Adj Close|\n",
            "+----------+------------------+------------------+------------------+------------------+---------+------------------+\n",
            "|2010-02-01|192.36999699999998|             196.0|191.29999899999999|        194.729998|187469100|         25.229131|\n",
            "|2010-02-02|        195.909998|        196.319994|193.37999299999998|        195.859997|174585600|25.375532999999997|\n",
            "|2010-02-03|        195.169994|        200.200003|        194.420004|        199.229994|153832000|25.812148999999998|\n",
            "|2010-02-04|        196.730003|        198.370001|        191.570005|        192.050003|189413000|         24.881912|\n",
            "|2010-02-05|192.63000300000002|             196.0|        190.850002|        195.460001|212576700|25.323710000000002|\n",
            "|2010-02-08|        195.690006|197.88000300000002|        193.999994|194.11999699999998|119567700|           25.1501|\n",
            "|2010-02-09|        196.419996|        197.499994|        194.749998|196.19000400000002|158221700|         25.418289|\n",
            "|2010-02-10|        195.889997|             196.6|            194.26|195.12000700000002| 92590400|          25.27966|\n",
            "|2010-02-11|        194.880001|        199.750006|194.05999599999998|        198.669994|137586400|         25.739595|\n",
            "|2010-02-23|        199.999998|        201.330002|        195.709993|        197.059998|143773700|         25.531005|\n",
            "|2014-06-09|         92.699997|         93.879997|             91.75|         93.699997| 75415000|         88.906324|\n",
            "|2014-06-10|         94.730003|         95.050003|             93.57|             94.25| 62777000|         89.428189|\n",
            "|2014-06-11|         94.129997|         94.760002|         93.470001|         93.860001| 45681000|         89.058142|\n",
            "|2014-06-12|         94.040001|         94.120003|         91.900002|         92.290001| 54749000|         87.568463|\n",
            "|2014-06-13|         92.199997|         92.440002|         90.879997|         91.279999| 54525000|         86.610132|\n",
            "|2014-06-16|         91.510002|             92.75|         91.449997|         92.199997| 35561000|         87.483064|\n",
            "|2014-06-17|         92.309998|         92.699997|         91.800003| 92.08000200000001| 29726000| 87.36920699999999|\n",
            "|2014-06-18|         92.269997|         92.290001|         91.349998|             92.18| 33514000|          87.46409|\n",
            "|2014-06-19|         92.290001|         92.300003|         91.339996|         91.860001| 35528000|         87.160461|\n",
            "|2014-06-20|         91.849998|         92.550003|         90.900002|         90.910004|100898000|         86.259066|\n",
            "+----------+------------------+------------------+------------------+------------------+---------+------------------+\n",
            "only showing top 20 rows\n",
            "\n"
          ]
        }
      ]
    },
    {
      "cell_type": "markdown",
      "source": [
        "**Using collect**\n",
        "\n",
        "the collect() method is used to retrieve all the rows of a DataFrame as a list of Row objects."
      ],
      "metadata": {
        "id": "wkiQwyJs9xPP"
      }
    },
    {
      "cell_type": "code",
      "source": [
        "df.filter(df['high']== 196.0).show()"
      ],
      "metadata": {
        "colab": {
          "base_uri": "https://localhost:8080/"
        },
        "id": "DXrrujov7LmX",
        "outputId": "b785cf3c-373d-436b-bc30-2c6ba3c0b286"
      },
      "execution_count": 39,
      "outputs": [
        {
          "output_type": "stream",
          "name": "stdout",
          "text": [
            "+----------+------------------+-----+------------------+----------+---------+------------------+\n",
            "|      Date|              Open| High|               Low|     Close|   Volume|         Adj Close|\n",
            "+----------+------------------+-----+------------------+----------+---------+------------------+\n",
            "|2010-02-01|192.36999699999998|196.0|191.29999899999999|194.729998|187469100|         25.229131|\n",
            "|2010-02-05|192.63000300000002|196.0|        190.850002|195.460001|212576700|25.323710000000002|\n",
            "+----------+------------------+-----+------------------+----------+---------+------------------+\n",
            "\n"
          ]
        }
      ]
    },
    {
      "cell_type": "code",
      "source": [
        "df.filter(df['high']== 196.0).collect()"
      ],
      "metadata": {
        "colab": {
          "base_uri": "https://localhost:8080/"
        },
        "id": "x2rZvANj7OZy",
        "outputId": "a565ba17-df7f-48b3-a0cf-dcac27c8de19"
      },
      "execution_count": 40,
      "outputs": [
        {
          "output_type": "execute_result",
          "data": {
            "text/plain": [
              "[Row(Date=datetime.date(2010, 2, 1), Open=192.36999699999998, High=196.0, Low=191.29999899999999, Close=194.729998, Volume=187469100, Adj Close=25.229131),\n",
              " Row(Date=datetime.date(2010, 2, 5), Open=192.63000300000002, High=196.0, Low=190.850002, Close=195.460001, Volume=212576700, Adj Close=25.323710000000002)]"
            ]
          },
          "metadata": {},
          "execution_count": 40
        }
      ]
    },
    {
      "cell_type": "markdown",
      "source": [
        "Access Row object using an index."
      ],
      "metadata": {
        "id": "E7wkzAIJ95nN"
      }
    },
    {
      "cell_type": "code",
      "source": [
        "results = df.filter(df['high']== 196.0).collect()\n",
        "results[1]"
      ],
      "metadata": {
        "colab": {
          "base_uri": "https://localhost:8080/"
        },
        "id": "pQE1AUbd7Q9w",
        "outputId": "c848819a-9f7b-4ce0-b204-c34c4427fbfe"
      },
      "execution_count": 41,
      "outputs": [
        {
          "output_type": "execute_result",
          "data": {
            "text/plain": [
              "Row(Date=datetime.date(2010, 2, 5), Open=192.63000300000002, High=196.0, Low=190.850002, Close=195.460001, Volume=212576700, Adj Close=25.323710000000002)"
            ]
          },
          "metadata": {},
          "execution_count": 41
        }
      ]
    },
    {
      "cell_type": "markdown",
      "source": [
        "Convert to Python Dictionary using asDict()"
      ],
      "metadata": {
        "id": "mVxOTCjV98bX"
      }
    },
    {
      "cell_type": "code",
      "source": [
        "results[1].asDict()"
      ],
      "metadata": {
        "colab": {
          "base_uri": "https://localhost:8080/"
        },
        "id": "RDe2a7wZ7VbR",
        "outputId": "88b7a00c-76e3-475a-fe60-fe7fd1337454"
      },
      "execution_count": 42,
      "outputs": [
        {
          "output_type": "execute_result",
          "data": {
            "text/plain": [
              "{'Date': datetime.date(2010, 2, 5),\n",
              " 'Open': 192.63000300000002,\n",
              " 'High': 196.0,\n",
              " 'Low': 190.850002,\n",
              " 'Close': 195.460001,\n",
              " 'Volume': 212576700,\n",
              " 'Adj Close': 25.323710000000002}"
            ]
          },
          "metadata": {},
          "execution_count": 42
        }
      ]
    },
    {
      "cell_type": "code",
      "source": [
        "# Access the values of a Row object by column names as dictionary keys.\n",
        "results[1].asDict()['Date'] # datetime.date(2010, 2, 5)"
      ],
      "metadata": {
        "colab": {
          "base_uri": "https://localhost:8080/"
        },
        "id": "FhvoJGpZ7YS3",
        "outputId": "e9973275-5493-4e49-98fc-5db22137e0d3"
      },
      "execution_count": 43,
      "outputs": [
        {
          "output_type": "execute_result",
          "data": {
            "text/plain": [
              "datetime.date(2010, 2, 5)"
            ]
          },
          "metadata": {},
          "execution_count": 43
        }
      ]
    },
    {
      "cell_type": "code",
      "source": [
        "spark.stop()"
      ],
      "metadata": {
        "id": "ZMHEeimb7a9O"
      },
      "execution_count": 44,
      "outputs": []
    },
    {
      "cell_type": "markdown",
      "source": [
        "### More on RDDs"
      ],
      "metadata": {
        "id": "vDjAcjEW-BJ_"
      }
    },
    {
      "cell_type": "markdown",
      "source": [
        "Using groupBy()"
      ],
      "metadata": {
        "id": "CiaBMt49-HZY"
      }
    },
    {
      "cell_type": "code",
      "source": [
        "from pyspark import SparkContext\n",
        "\n",
        "# Initialize SparkContext\n",
        "sc = SparkContext(\"local\", \"GroupByExample\")\n",
        "\n",
        "# Create an RDD\n",
        "rdd = sc.parallelize([1, 2, 3, 4, 5, 6])\n",
        "\n",
        "# Group numbers by even or odd\n",
        "grouped_rdd = rdd.groupBy(lambda x: \"even\" if x % 2 == 0 else \"odd\")"
      ],
      "metadata": {
        "id": "skpLLxeO7dEm"
      },
      "execution_count": 50,
      "outputs": []
    },
    {
      "cell_type": "markdown",
      "source": [
        "Using MapValues"
      ],
      "metadata": {
        "id": "AIYuKno3-egP"
      }
    },
    {
      "cell_type": "code",
      "source": [
        "# Convert grouped results to a more readable format\n",
        "result = grouped_rdd.mapValues(list).collect()"
      ],
      "metadata": {
        "id": "jWYK9eGv-xJO"
      },
      "execution_count": 51,
      "outputs": []
    },
    {
      "cell_type": "code",
      "source": [
        "# Print the result\n",
        "for key, values in result:\n",
        "   print(f\"{key}: {values}\")"
      ],
      "metadata": {
        "colab": {
          "base_uri": "https://localhost:8080/"
        },
        "id": "1feMax_m-63l",
        "outputId": "9329a25a-33ba-4049-c6bf-8d0e10a2d911"
      },
      "execution_count": 52,
      "outputs": [
        {
          "output_type": "stream",
          "name": "stdout",
          "text": [
            "odd: [1, 3, 5]\n",
            "even: [2, 4, 6]\n"
          ]
        }
      ]
    },
    {
      "cell_type": "code",
      "source": [
        "sc.stop()"
      ],
      "metadata": {
        "id": "oos7GUc-7z5H"
      },
      "execution_count": 53,
      "outputs": []
    },
    {
      "cell_type": "markdown",
      "source": [
        "Example: Create a DataFrame from a list of tuples"
      ],
      "metadata": {
        "id": "oppRCztT_Df-"
      }
    },
    {
      "cell_type": "code",
      "source": [
        "from pyspark.sql import SparkSession\n",
        "spark = SparkSession.builder.appName(\"Basic Operations\").getOrCreate()\n",
        "# Sample data\n",
        "data = [(\"Alice\", 25), (\"Bob\", 30), (\"Charlie\", 35)]\n",
        "columns = [\"Name\", \"Age\"] # Create DataFrame\n",
        "df = spark.createDataFrame(data, columns)\n",
        "df.show()"
      ],
      "metadata": {
        "colab": {
          "base_uri": "https://localhost:8080/"
        },
        "id": "EmmMQhYF8Kju",
        "outputId": "019015b6-7b72-4b7e-e112-6b777a16dfaf"
      },
      "execution_count": 54,
      "outputs": [
        {
          "output_type": "stream",
          "name": "stdout",
          "text": [
            "+-------+---+\n",
            "|   Name|Age|\n",
            "+-------+---+\n",
            "|  Alice| 25|\n",
            "|    Bob| 30|\n",
            "|Charlie| 35|\n",
            "+-------+---+\n",
            "\n"
          ]
        }
      ]
    }
  ]
}