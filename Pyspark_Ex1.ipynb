{
  "nbformat": 4,
  "nbformat_minor": 0,
  "metadata": {
    "colab": {
      "provenance": []
    },
    "kernelspec": {
      "name": "python3",
      "display_name": "Python 3"
    },
    "language_info": {
      "name": "python"
    }
  },
  "cells": [
    {
      "cell_type": "markdown",
      "source": [
        "### Question 1\n",
        "\n",
        "Given the RDD [1, 2, 3, 4, 5, 6], find the sum of the squares of all even numbers."
      ],
      "metadata": {
        "id": "yVyhyBEoy8s5"
      }
    },
    {
      "cell_type": "code",
      "execution_count": 1,
      "metadata": {
        "colab": {
          "base_uri": "https://localhost:8080/"
        },
        "id": "OBM6BbIJQCm9",
        "outputId": "b725bcdd-0274-42bb-a22f-7c434dae51dc"
      },
      "outputs": [
        {
          "output_type": "stream",
          "name": "stdout",
          "text": [
            "56\n"
          ]
        }
      ],
      "source": [
        "from pyspark import SparkContext\n",
        "sc = SparkContext('local', 'Question_1')\n",
        "rdd = sc.parallelize([1, 2, 3, 4, 5, 6], numSlices=2)\n",
        "# sum of the squares of all even numbers.\n",
        "filtered_rdd = rdd.filter(lambda x: x % 2 == 0)\n",
        "mapped_rdd = filtered_rdd.map(lambda x: x ** 2)\n",
        "result = mapped_rdd.reduce(lambda x, y: x + y)\n",
        "print(result)\n",
        "sc.stop()"
      ]
    },
    {
      "cell_type": "markdown",
      "source": [
        "### Question 2\n",
        "\n",
        "Given the RDD [7, 2, 10, 5, 8, 3], find the maximum even number."
      ],
      "metadata": {
        "id": "ahss3zdvzCYw"
      }
    },
    {
      "cell_type": "code",
      "source": [
        "from pyspark import SparkContext\n",
        "sc = SparkContext('local', 'Question_2')\n",
        "rdd = sc.parallelize([7, 2, 10, 5, 8, 3], numSlices=2)\n",
        "max_even = rdd.filter(lambda x: x % 2 == 0).max()\n",
        "print(max_even)\n",
        "sc.stop()"
      ],
      "metadata": {
        "colab": {
          "base_uri": "https://localhost:8080/"
        },
        "id": "KEmEB2ZaSgxC",
        "outputId": "3cc0af9d-aa6d-42c8-d6fb-baf5870d2dbb"
      },
      "execution_count": 2,
      "outputs": [
        {
          "output_type": "stream",
          "name": "stdout",
          "text": [
            "10\n"
          ]
        }
      ]
    },
    {
      "cell_type": "markdown",
      "source": [
        "### Question 3\n",
        "\n",
        "Given the RDD [10, 20, 15, 30, 50, 35, 40, 45, 25]:\n",
        "\n",
        "a. Filter and create a new RDD containing only even numbers."
      ],
      "metadata": {
        "id": "IqCLMdZYzLLc"
      }
    },
    {
      "cell_type": "code",
      "source": [
        "from pyspark import SparkContext\n",
        "sc = SparkContext('local', 'Question_3')\n",
        "rdd = sc.parallelize([10, 20, 15, 30, 50, 35, 40, 45, 25], numSlices=2)\n",
        "EvenRdd = rdd.filter(lambda x: x % 2 == 0)\n",
        "print(\"a, \",EvenRdd.collect())"
      ],
      "metadata": {
        "colab": {
          "base_uri": "https://localhost:8080/"
        },
        "id": "XiVj08siUokQ",
        "outputId": "56906004-73ad-4526-8772-a471a257775a"
      },
      "execution_count": 12,
      "outputs": [
        {
          "output_type": "stream",
          "name": "stdout",
          "text": [
            "a,  [10, 20, 30, 50, 40]\n"
          ]
        }
      ]
    },
    {
      "cell_type": "markdown",
      "source": [
        "b. Multiply each number by 2 using the map() transformation."
      ],
      "metadata": {
        "id": "Vxeol1OXzZxI"
      }
    },
    {
      "cell_type": "code",
      "source": [
        "MultipliedRdd = EvenRdd.map(lambda x: x * 2)\n",
        "print(\"b, \",MultipliedRdd.collect())"
      ],
      "metadata": {
        "colab": {
          "base_uri": "https://localhost:8080/"
        },
        "id": "C4SwO-zrzVyS",
        "outputId": "6d1530b6-5aca-4c32-b969-55ae8f455d89"
      },
      "execution_count": 13,
      "outputs": [
        {
          "output_type": "stream",
          "name": "stdout",
          "text": [
            "b,  [20, 40, 60, 100, 80]\n"
          ]
        }
      ]
    },
    {
      "cell_type": "markdown",
      "source": [
        "c. Group numbers into two categories using the groupBy() transformation.\n",
        "\n",
        "- I Less than or equal to 25.\n",
        "- II Greater than 25."
      ],
      "metadata": {
        "id": "Jt3UbghP0Djf"
      }
    },
    {
      "cell_type": "code",
      "source": [
        "result = MultipliedRdd.groupBy(lambda x: x <= 25).collect()\n",
        "sorted_result = sorted([(x, sorted(y)) for (x, y) in result])\n",
        "print(\"c i, \",sorted_result[1])\n",
        "print(\"c ii, \",sorted_result[0])"
      ],
      "metadata": {
        "colab": {
          "base_uri": "https://localhost:8080/"
        },
        "id": "AB8K7yIozXeB",
        "outputId": "dd38eb55-e1bd-4fe6-fc72-0fe38b3c190c"
      },
      "execution_count": 14,
      "outputs": [
        {
          "output_type": "stream",
          "name": "stdout",
          "text": [
            "c i,  (True, [20])\n",
            "c ii,  (False, [40, 60, 80, 100])\n"
          ]
        }
      ]
    },
    {
      "cell_type": "markdown",
      "source": [
        "d. Collects and prints the group names using mapValues()."
      ],
      "metadata": {
        "id": "qD_QKh5n0WW_"
      }
    },
    {
      "cell_type": "code",
      "source": [
        "grouped_rdd = MultipliedRdd.groupBy(lambda x: \"≤ 25\" if x <= 25 else \">\")\n",
        "result = grouped_rdd.mapValues(list).collect()\n",
        "for group, values in result:\n",
        "    print(f\"{group}: {values}\")"
      ],
      "metadata": {
        "colab": {
          "base_uri": "https://localhost:8080/"
        },
        "id": "2Iss6Ytq0Xuo",
        "outputId": "306b332c-5f81-4235-8679-b5025ba666f5"
      },
      "execution_count": 15,
      "outputs": [
        {
          "output_type": "stream",
          "name": "stdout",
          "text": [
            ">: [40, 60, 100, 80]\n",
            "≤ 25: [20]\n"
          ]
        }
      ]
    },
    {
      "cell_type": "code",
      "source": [
        "sc.stop()"
      ],
      "metadata": {
        "id": "P-hOmzFPQa4A"
      },
      "execution_count": 16,
      "outputs": []
    }
  ]
}