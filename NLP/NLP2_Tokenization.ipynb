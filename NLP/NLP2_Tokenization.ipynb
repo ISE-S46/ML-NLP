{
  "cells": [
    {
      "cell_type": "markdown",
      "metadata": {
        "id": "XF8Jc2TePllH"
      },
      "source": [
        "## Tokenization with Spacy"
      ]
    },
    {
      "cell_type": "code",
      "execution_count": 1,
      "metadata": {
        "id": "xMDk7BZ3A2e3"
      },
      "outputs": [],
      "source": [
        "import spacy"
      ]
    },
    {
      "cell_type": "code",
      "execution_count": 18,
      "metadata": {
        "id": "ingfiA0_QknY"
      },
      "outputs": [],
      "source": [
        "nlp = spacy.blank(\"en\")"
      ]
    },
    {
      "cell_type": "code",
      "execution_count": 33,
      "metadata": {
        "colab": {
          "base_uri": "https://localhost:8080/"
        },
        "id": "EXMUIwCkM_Em",
        "outputId": "843fda9d-e012-4cc8-c427-9c24ff559007"
      },
      "outputs": [
        {
          "name": "stdout",
          "output_type": "stream",
          "text": [
            "X\n",
            "love\n",
            "meat\n",
            "kebab\n",
            "with\n",
            "cheese\n",
            "as\n",
            "it\n",
            "cost\n",
            "2\n",
            "$\n",
            "each\n",
            ".\n"
          ]
        }
      ],
      "source": [
        "doc = nlp(\"X love meat kebab with cheese as it cost 2$ each.\")\n",
        "\n",
        "for token in doc:\n",
        "  print(token)"
      ]
    },
    {
      "cell_type": "code",
      "execution_count": 32,
      "metadata": {
        "colab": {
          "base_uri": "https://localhost:8080/"
        },
        "id": "2v_oh_OBQVT-",
        "outputId": "0d79e103-fa20-45bf-eeab-881559a3c1d1"
      },
      "outputs": [
        {
          "name": "stdout",
          "output_type": "stream",
          "text": [
            "Let\n",
            "'s\n",
            "go\n",
            "to\n",
            "N.Y.\n",
            "!\n"
          ]
        }
      ],
      "source": [
        "doc = nlp(\"Let's go to N.Y.!\")\n",
        "for token in doc:\n",
        "  print(token)"
      ]
    },
    {
      "cell_type": "code",
      "execution_count": 23,
      "metadata": {
        "colab": {
          "base_uri": "https://localhost:8080/",
          "height": 204
        },
        "id": "Yx7EbY3KNwJn",
        "outputId": "dcbecef1-c72a-40b5-bd53-5f6508a006da"
      },
      "outputs": [
        {
          "data": {
            "text/html": [
              "<div style=\"max-width:800px; border: 1px solid var(--colab-border-color);\"><style>\n",
              "      pre.function-repr-contents {\n",
              "        overflow-x: auto;\n",
              "        padding: 8px 12px;\n",
              "        max-height: 500px;\n",
              "      }\n",
              "\n",
              "      pre.function-repr-contents.function-repr-contents-collapsed {\n",
              "        cursor: pointer;\n",
              "        max-height: 100px;\n",
              "      }\n",
              "    </style>\n",
              "    <pre style=\"white-space: initial; background:\n",
              "         var(--colab-secondary-surface-color); padding: 8px 12px;\n",
              "         border-bottom: 1px solid var(--colab-border-color);\"><b>spacy.lang.en.English</b><br/>def __call__(text: Union[str, Doc], *, disable: Iterable[str]=SimpleFrozenList(), component_cfg: Optional[Dict[str, Dict[str, Any]]]=None) -&gt; Doc</pre><pre class=\"function-repr-contents function-repr-contents-collapsed\" style=\"\"><a class=\"filepath\" style=\"display:none\" href=\"#\">/usr/local/lib/python3.11/dist-packages/spacy/lang/en/__init__.py</a>A text-processing pipeline. Usually you&#x27;ll load this once per process,\n",
              "and pass the instance around your application.\n",
              "\n",
              "Defaults (class): Settings, data and factory methods for creating the `nlp`\n",
              "    object and processing pipeline.\n",
              "lang (str): IETF language code, such as &#x27;en&#x27;.\n",
              "\n",
              "DOCS: https://spacy.io/api/language</pre>\n",
              "      <script>\n",
              "      if (google.colab.kernel.accessAllowed && google.colab.files && google.colab.files.view) {\n",
              "        for (const element of document.querySelectorAll('.filepath')) {\n",
              "          element.style.display = 'block'\n",
              "          element.onclick = (event) => {\n",
              "            event.preventDefault();\n",
              "            event.stopPropagation();\n",
              "            google.colab.files.view(element.textContent, 22);\n",
              "          };\n",
              "        }\n",
              "      }\n",
              "      for (const element of document.querySelectorAll('.function-repr-contents')) {\n",
              "        element.onclick = (event) => {\n",
              "          event.preventDefault();\n",
              "          event.stopPropagation();\n",
              "          element.classList.toggle('function-repr-contents-collapsed');\n",
              "        };\n",
              "      }\n",
              "      </script>\n",
              "      </div>"
            ],
            "text/plain": [
              "spacy.lang.en.English"
            ]
          },
          "execution_count": 23,
          "metadata": {},
          "output_type": "execute_result"
        }
      ],
      "source": [
        "type(nlp)"
      ]
    },
    {
      "cell_type": "code",
      "execution_count": 24,
      "metadata": {
        "colab": {
          "base_uri": "https://localhost:8080/"
        },
        "id": "gsCi5a35Qxrb",
        "outputId": "3040dd72-beae-4cc6-b58e-024545ae74b7"
      },
      "outputs": [
        {
          "data": {
            "text/plain": [
              "spacy.tokens.doc.Doc"
            ]
          },
          "execution_count": 24,
          "metadata": {},
          "output_type": "execute_result"
        }
      ],
      "source": [
        "type(doc)"
      ]
    },
    {
      "cell_type": "code",
      "execution_count": 29,
      "metadata": {
        "colab": {
          "base_uri": "https://localhost:8080/"
        },
        "id": "7_YSGdp9QzI2",
        "outputId": "9f218323-19fc-4c86-d2d3-60e8fbc920ab"
      },
      "outputs": [
        {
          "data": {
            "text/plain": [
              "spacy.tokens.token.Token"
            ]
          },
          "execution_count": 29,
          "metadata": {},
          "output_type": "execute_result"
        }
      ],
      "source": [
        "type(token) # check methods : dir(token)"
      ]
    },
    {
      "cell_type": "code",
      "execution_count": 30,
      "metadata": {
        "colab": {
          "base_uri": "https://localhost:8080/"
        },
        "id": "b1Lv1mIZRYln",
        "outputId": "d473ec0b-90dc-4199-f3d2-f17d4a1b2d72"
      },
      "outputs": [
        {
          "name": "stdout",
          "output_type": "stream",
          "text": [
            "Let ==> index:  0 is_alpha: True is_punct: False like_num: False is_currency: False\n",
            "'s ==> index:  1 is_alpha: False is_punct: False like_num: False is_currency: False\n",
            "go ==> index:  2 is_alpha: True is_punct: False like_num: False is_currency: False\n",
            "to ==> index:  3 is_alpha: True is_punct: False like_num: False is_currency: False\n",
            "N.Y. ==> index:  4 is_alpha: False is_punct: False like_num: False is_currency: False\n",
            "! ==> index:  5 is_alpha: False is_punct: True like_num: False is_currency: False\n"
          ]
        }
      ],
      "source": [
        "for token in doc:\n",
        "    print(token, \"==>\", \"index: \", token.i,\n",
        "          \"is_alpha:\", token.is_alpha,\n",
        "          \"is_punct:\", token.is_punct,\n",
        "          \"like_num:\", token.like_num,\n",
        "          \"is_currency:\", token.is_currency,\n",
        "          )"
      ]
    },
    {
      "cell_type": "code",
      "execution_count": 1,
      "metadata": {
        "colab": {
          "base_uri": "https://localhost:8080/"
        },
        "id": "b-5VSo-GRor-",
        "outputId": "b6f98a4b-0838-4446-ccf3-9be352f0d2be"
      },
      "outputs": [
        {
          "data": {
            "text/plain": [
              "['_ high school, 12th grade students information\\n',\n",
              " '==================================================\\n',\n",
              " '\\n',\n",
              " 'Name\\tbirth day   \\temail\\n',\n",
              " '-----\\t------------\\t------\\n',\n",
              " 'A   5 June, 1882    A@example.com\\n',\n",
              " 'B\\t12 April, 2001  B@hotmail.com\\n',\n",
              " 'C  24 June, 1998   C@gmail.com \\n',\n",
              " 'D      1 May, 1997    D@tb.com']"
            ]
          },
          "execution_count": 1,
          "metadata": {},
          "output_type": "execute_result"
        }
      ],
      "source": [
        "with open(\"Datasets/student.txt\") as f:\n",
        "  text = f.readlines()\n",
        "text"
      ]
    },
    {
      "cell_type": "code",
      "execution_count": 38,
      "metadata": {
        "colab": {
          "base_uri": "https://localhost:8080/",
          "height": 53
        },
        "id": "LkCw2CBaU9aY",
        "outputId": "4a9e7fca-f023-4e8e-b7e7-bd29ae84e3a3"
      },
      "outputs": [
        {
          "data": {
            "application/vnd.google.colaboratory.intrinsic+json": {
              "type": "string"
            },
            "text/plain": [
              "'_ high school, 12th grade students information\\n ==================================================\\n \\n Name\\tbirth day   \\temail\\n -----\\t------------\\t------\\n A   5 June, 1882    A@example.com\\n B\\t12 April, 2001  B@hotmail.com\\n C  24 June, 1998   C@gmail.com \\n D      1 May, 1997    D@tb.com'"
            ]
          },
          "execution_count": 38,
          "metadata": {},
          "output_type": "execute_result"
        }
      ],
      "source": [
        "text = \" \".join(text)\n",
        "text"
      ]
    },
    {
      "cell_type": "code",
      "execution_count": 40,
      "metadata": {
        "colab": {
          "base_uri": "https://localhost:8080/"
        },
        "id": "7INVGeMvVFnd",
        "outputId": "0204b11e-e245-4425-fdf2-2e4895ff30b3"
      },
      "outputs": [
        {
          "data": {
            "text/plain": [
              "['A@example.com', 'B@hotmail.com', 'C@gmail.com', 'D@tb.com']"
            ]
          },
          "execution_count": 40,
          "metadata": {},
          "output_type": "execute_result"
        }
      ],
      "source": [
        "doc = nlp(text)\n",
        "emails = []\n",
        "for token in doc:\n",
        "    if token.like_email:\n",
        "        emails.append(token.text)\n",
        "emails"
      ]
    },
    {
      "cell_type": "markdown",
      "metadata": {
        "id": "oD1WfqfQZmgu"
      },
      "source": [
        "### Customizing tokenizer"
      ]
    },
    {
      "cell_type": "code",
      "execution_count": 43,
      "metadata": {
        "colab": {
          "base_uri": "https://localhost:8080/"
        },
        "id": "wea3BqmPXgsS",
        "outputId": "5eda4676-208b-4274-f03f-513eb4edb0ef"
      },
      "outputs": [
        {
          "data": {
            "text/plain": [
              "['Give', 'me', 'double', 'cheese', 'extra', 'large', 'kebab']"
            ]
          },
          "execution_count": 43,
          "metadata": {},
          "output_type": "execute_result"
        }
      ],
      "source": [
        "nlp = spacy.blank(\"en\")\n",
        "doc = nlp(\"Give me double cheese extra large kebab\")\n",
        "tokens = [token.text for token in doc]\n",
        "tokens"
      ]
    },
    {
      "cell_type": "code",
      "execution_count": 46,
      "metadata": {
        "colab": {
          "base_uri": "https://localhost:8080/"
        },
        "id": "XMhdImcsYakm",
        "outputId": "ab2c5f96-0639-4de0-d609-8dfc2213db5a"
      },
      "outputs": [
        {
          "data": {
            "text/plain": [
              "['gib', 'me', 'double', 'cheese', 'extra', 'large', 'kebab']"
            ]
          },
          "execution_count": 46,
          "metadata": {},
          "output_type": "execute_result"
        }
      ],
      "source": [
        "from spacy.symbols import ORTH\n",
        "\n",
        "nlp.tokenizer.add_special_case(\"gibme\", [\n",
        "    {ORTH: \"gib\"},\n",
        "    {ORTH: \"me\"},\n",
        "])\n",
        "\n",
        "doc = nlp(\"gibme double cheese extra large kebab\")\n",
        "tokens = [token.text for token in doc]\n",
        "tokens"
      ]
    },
    {
      "cell_type": "markdown",
      "metadata": {
        "id": "ekWleMCWZha5"
      },
      "source": [
        "### Sentence Tokenization"
      ]
    },
    {
      "cell_type": "code",
      "execution_count": 47,
      "metadata": {
        "colab": {
          "base_uri": "https://localhost:8080/",
          "height": 234
        },
        "id": "mz-zJGMfYukW",
        "outputId": "a3a5299f-baaa-4b9f-84bd-541a1bdc85b1"
      },
      "outputs": [
        {
          "ename": "ValueError",
          "evalue": "[E030] Sentence boundaries unset. You can add the 'sentencizer' component to the pipeline with: `nlp.add_pipe('sentencizer')`. Alternatively, add the dependency parser or sentence recognizer, or set sentence boundaries by setting `doc[i].is_sent_start`.",
          "output_type": "error",
          "traceback": [
            "\u001b[0;31m---------------------------------------------------------------------------\u001b[0m",
            "\u001b[0;31mValueError\u001b[0m                                Traceback (most recent call last)",
            "\u001b[0;32m<ipython-input-47-24d080867317>\u001b[0m in \u001b[0;36m<cell line: 0>\u001b[0;34m()\u001b[0m\n\u001b[1;32m      1\u001b[0m \u001b[0mdoc\u001b[0m \u001b[0;34m=\u001b[0m \u001b[0mnlp\u001b[0m\u001b[0;34m(\u001b[0m\u001b[0;34m\"X love meat kebab etc. with cheese. Y love cheeseburger.\"\u001b[0m\u001b[0;34m)\u001b[0m\u001b[0;34m\u001b[0m\u001b[0;34m\u001b[0m\u001b[0m\n\u001b[0;32m----> 2\u001b[0;31m \u001b[0;32mfor\u001b[0m \u001b[0msentence\u001b[0m \u001b[0;32min\u001b[0m \u001b[0mdoc\u001b[0m\u001b[0;34m.\u001b[0m\u001b[0msents\u001b[0m\u001b[0;34m:\u001b[0m\u001b[0;34m\u001b[0m\u001b[0;34m\u001b[0m\u001b[0m\n\u001b[0m\u001b[1;32m      3\u001b[0m     \u001b[0mprint\u001b[0m\u001b[0;34m(\u001b[0m\u001b[0msentence\u001b[0m\u001b[0;34m)\u001b[0m\u001b[0;34m\u001b[0m\u001b[0;34m\u001b[0m\u001b[0m\n",
            "\u001b[0;32m/usr/local/lib/python3.11/dist-packages/spacy/tokens/doc.pyx\u001b[0m in \u001b[0;36msents\u001b[0;34m()\u001b[0m\n",
            "\u001b[0;31mValueError\u001b[0m: [E030] Sentence boundaries unset. You can add the 'sentencizer' component to the pipeline with: `nlp.add_pipe('sentencizer')`. Alternatively, add the dependency parser or sentence recognizer, or set sentence boundaries by setting `doc[i].is_sent_start`."
          ]
        }
      ],
      "source": [
        "doc = nlp(\"X love meat kebab etc. with cheese. Y love cheeseburger.\")\n",
        "for sentence in doc.sents:\n",
        "    print(sentence)"
      ]
    },
    {
      "cell_type": "code",
      "execution_count": 49,
      "metadata": {
        "colab": {
          "base_uri": "https://localhost:8080/"
        },
        "id": "bE0C5FzQZ868",
        "outputId": "ebcf7c75-6a31-484c-b9d2-6c7bee717461"
      },
      "outputs": [
        {
          "data": {
            "text/plain": [
              "<spacy.pipeline.sentencizer.Sentencizer at 0x78f141b34510>"
            ]
          },
          "execution_count": 49,
          "metadata": {},
          "output_type": "execute_result"
        }
      ],
      "source": [
        "nlp.add_pipe('sentencizer')"
      ]
    },
    {
      "cell_type": "code",
      "execution_count": 50,
      "metadata": {
        "colab": {
          "base_uri": "https://localhost:8080/"
        },
        "id": "7EANVexMZxkn",
        "outputId": "91ad75cb-07dc-46d6-f87d-58d7993d3105"
      },
      "outputs": [
        {
          "data": {
            "text/plain": [
              "['sentencizer']"
            ]
          },
          "execution_count": 50,
          "metadata": {},
          "output_type": "execute_result"
        }
      ],
      "source": [
        "nlp.pipe_names"
      ]
    },
    {
      "cell_type": "code",
      "execution_count": 51,
      "metadata": {
        "colab": {
          "base_uri": "https://localhost:8080/"
        },
        "id": "Y6ffAqh3aBxK",
        "outputId": "cfef0161-dfe5-453e-baa7-c91ff4541c09"
      },
      "outputs": [
        {
          "name": "stdout",
          "output_type": "stream",
          "text": [
            "X love meat kebab etc.\n",
            "with cheese.\n",
            "Y love cheeseburger.\n"
          ]
        }
      ],
      "source": [
        "doc = nlp(\"X love meat kebab etc. with cheese. Y love cheeseburger.\")\n",
        "for sentence in doc.sents:\n",
        "    print(sentence)"
      ]
    }
  ],
  "metadata": {
    "colab": {
      "provenance": []
    },
    "kernelspec": {
      "display_name": "base",
      "language": "python",
      "name": "python3"
    },
    "language_info": {
      "codemirror_mode": {
        "name": "ipython",
        "version": 3
      },
      "file_extension": ".py",
      "mimetype": "text/x-python",
      "name": "python",
      "nbconvert_exporter": "python",
      "pygments_lexer": "ipython3",
      "version": "3.12.7"
    }
  },
  "nbformat": 4,
  "nbformat_minor": 0
}
