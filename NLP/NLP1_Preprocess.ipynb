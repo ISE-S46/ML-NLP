{
  "nbformat": 4,
  "nbformat_minor": 0,
  "metadata": {
    "colab": {
      "provenance": []
    },
    "kernelspec": {
      "name": "python3",
      "display_name": "Python 3"
    },
    "language_info": {
      "name": "python"
    }
  },
  "cells": [
    {
      "cell_type": "markdown",
      "source": [
        "## NLP\n",
        "Enabling computers to understand, interpret, and generate human language.\n",
        "\n",
        "simple process flow:\n",
        "\n",
        "- input -> text process -> natural langauge understanding -> dialog management -> natural language generation -> output\n",
        "\n",
        "**Level of understanding**"
      ],
      "metadata": {
        "id": "xnxNbxDo_zcc"
      }
    },
    {
      "cell_type": "markdown",
      "source": [
        "## Import NLP library"
      ],
      "metadata": {
        "id": "t2DYnaU2u9If"
      }
    },
    {
      "cell_type": "code",
      "execution_count": 1,
      "metadata": {
        "id": "yGZrhPkvtHdn"
      },
      "outputs": [],
      "source": [
        "import nltk"
      ]
    },
    {
      "cell_type": "markdown",
      "source": [
        "## Stemming, Lemmatization\n",
        "- Stemming: Return to based word by cutting\n",
        "- Lemmatization: Return to based word by looking at conditions(Ex: grammar)"
      ],
      "metadata": {
        "id": "8l1To4KqvBw3"
      }
    },
    {
      "cell_type": "markdown",
      "source": [
        "Download wordnet (dataset, used for stemming and lemmatization)"
      ],
      "metadata": {
        "id": "DOVOo7TgBOk5"
      }
    },
    {
      "cell_type": "code",
      "source": [
        "nltk.download('wordnet')"
      ],
      "metadata": {
        "colab": {
          "base_uri": "https://localhost:8080/"
        },
        "id": "HHkuY94Yu8Wx",
        "outputId": "44913c55-a1a3-4630-e5aa-7feffa641dbb"
      },
      "execution_count": 2,
      "outputs": [
        {
          "output_type": "stream",
          "name": "stderr",
          "text": [
            "[nltk_data] Downloading package wordnet to /root/nltk_data...\n"
          ]
        },
        {
          "output_type": "execute_result",
          "data": {
            "text/plain": [
              "True"
            ]
          },
          "metadata": {},
          "execution_count": 2
        }
      ]
    },
    {
      "cell_type": "markdown",
      "source": [
        "### Import Stemming Function and Lemmatization Function"
      ],
      "metadata": {
        "id": "so12gX2uvrJf"
      }
    },
    {
      "cell_type": "code",
      "source": [
        "from nltk.stem.porter import PorterStemmer\n",
        "from nltk.stem.wordnet import WordNetLemmatizer"
      ],
      "metadata": {
        "id": "iEqhpQl9t7_K"
      },
      "execution_count": 3,
      "outputs": []
    },
    {
      "cell_type": "code",
      "source": [
        "stemmer = PorterStemmer()\n",
        "lemma = WordNetLemmatizer()"
      ],
      "metadata": {
        "id": "RFwrtO5_vySD"
      },
      "execution_count": 4,
      "outputs": []
    },
    {
      "cell_type": "markdown",
      "source": [
        "### Display function for comparing stemming and Lemmatization"
      ],
      "metadata": {
        "id": "Rr8U2XZ2v7xX"
      }
    },
    {
      "cell_type": "code",
      "source": [
        "def display(text):\n",
        "  print(f\"{'Word':<12}{'Lemma':<12}{'Stem':<12}\")\n",
        "  print('-' * 36)\n",
        "  for word in text:\n",
        "      print(f\"{word:<12}{lemma.lemmatize(word):<12}{stemmer.stem(word):<12}\")"
      ],
      "metadata": {
        "id": "FU0AMuI7v64I"
      },
      "execution_count": 5,
      "outputs": []
    },
    {
      "cell_type": "markdown",
      "source": [
        "### Example:"
      ],
      "metadata": {
        "id": "JMQg7Pu2wlcu"
      }
    },
    {
      "cell_type": "code",
      "source": [
        "Word_list = [\"fly\", \"flies\", \"flying\", \"flew\", \"flown\"]\n",
        "display(Word_list)"
      ],
      "metadata": {
        "colab": {
          "base_uri": "https://localhost:8080/"
        },
        "id": "4kfKq-kmwgkr",
        "outputId": "d51235de-4653-4c3d-8157-2e3a698ec7bd"
      },
      "execution_count": 6,
      "outputs": [
        {
          "output_type": "stream",
          "name": "stdout",
          "text": [
            "Word        Lemma       Stem        \n",
            "------------------------------------\n",
            "fly         fly         fli         \n",
            "flies       fly         fli         \n",
            "flying      flying      fli         \n",
            "flew        flew        flew        \n",
            "flown       flown       flown       \n"
          ]
        }
      ]
    },
    {
      "cell_type": "markdown",
      "source": [
        "### Example 2:"
      ],
      "metadata": {
        "id": "VKC11sZtxTAx"
      }
    },
    {
      "cell_type": "code",
      "source": [
        "Word_list = [\"Universe\", \"University\", \"Universal\"]\n",
        "display(Word_list)"
      ],
      "metadata": {
        "colab": {
          "base_uri": "https://localhost:8080/"
        },
        "id": "G5lowo0hxWSb",
        "outputId": "ea34f525-1c81-49fc-e1de-21946274b94a"
      },
      "execution_count": 14,
      "outputs": [
        {
          "output_type": "stream",
          "name": "stdout",
          "text": [
            "Word        Lemma       Stem        \n",
            "------------------------------------\n",
            "Universe    Universe    univers     \n",
            "University  University  univers     \n",
            "Universal   Universal   univers     \n"
          ]
        }
      ]
    },
    {
      "cell_type": "markdown",
      "source": [
        "### Example 3:"
      ],
      "metadata": {
        "id": "CWZk2I3Kxl4B"
      }
    },
    {
      "cell_type": "code",
      "source": [
        "Word_list = \"The painting looks beautiful\".split()\n",
        "display(Word_list)"
      ],
      "metadata": {
        "colab": {
          "base_uri": "https://localhost:8080/"
        },
        "id": "tOHK--d6xoHy",
        "outputId": "cdf1f7df-faf9-48b5-891e-adc3d81f700d"
      },
      "execution_count": 8,
      "outputs": [
        {
          "output_type": "stream",
          "name": "stdout",
          "text": [
            "Word        Lemma       Stem        \n",
            "------------------------------------\n",
            "The         The         the         \n",
            "painting    painting    paint       \n",
            "looks       look        look        \n",
            "beautiful   beautiful   beauti      \n"
          ]
        }
      ]
    },
    {
      "cell_type": "markdown",
      "source": [
        "## Stopwords\n",
        "- ignore extra words ex: a, an, am\n",
        "  - not recommend for Thai language\n",
        "- Download stopwords (dataset, used for stopwords function)"
      ],
      "metadata": {
        "id": "bFjVAs67zJV7"
      }
    },
    {
      "cell_type": "code",
      "source": [
        "nltk.download('stopwords')\n",
        "stopwords = nltk.corpus.stopwords.words('english')\n",
        "stopwords[0:10]"
      ],
      "metadata": {
        "colab": {
          "base_uri": "https://localhost:8080/"
        },
        "id": "i_qoVB3IzPrm",
        "outputId": "abf24835-0e16-4007-87d3-94f9eadd3175"
      },
      "execution_count": 9,
      "outputs": [
        {
          "output_type": "stream",
          "name": "stderr",
          "text": [
            "[nltk_data] Downloading package stopwords to /root/nltk_data...\n",
            "[nltk_data]   Unzipping corpora/stopwords.zip.\n"
          ]
        },
        {
          "output_type": "execute_result",
          "data": {
            "text/plain": [
              "['a', 'about', 'above', 'after', 'again', 'against', 'ain', 'all', 'am', 'an']"
            ]
          },
          "metadata": {},
          "execution_count": 9
        }
      ]
    },
    {
      "cell_type": "code",
      "source": [
        "def remove_stopwords(text):\n",
        "  output = [i for i in text if i not in stopwords]\n",
        "  return output"
      ],
      "metadata": {
        "id": "JvaIeFHJzUfR"
      },
      "execution_count": 10,
      "outputs": []
    },
    {
      "cell_type": "code",
      "source": [
        "text = \"The is a painting and it looks beautiful\".split()\n",
        "print(\"Original text: \", text)\n",
        "print(\"Remove stopwords: \", remove_stopwords(text))"
      ],
      "metadata": {
        "colab": {
          "base_uri": "https://localhost:8080/"
        },
        "id": "-ZhvfWPx06Ci",
        "outputId": "4c66043c-5031-429a-b37c-f9787dc275d4"
      },
      "execution_count": 11,
      "outputs": [
        {
          "output_type": "stream",
          "name": "stdout",
          "text": [
            "Original text:  ['The', 'is', 'a', 'painting', 'and', 'it', 'looks', 'beautiful']\n",
            "Remove stopwords:  ['The', 'painting', 'looks', 'beautiful']\n"
          ]
        }
      ]
    },
    {
      "cell_type": "markdown",
      "source": [
        "## Normalisation\n",
        "- straightforward just dictionary\n",
        "- useful for anlyze text"
      ],
      "metadata": {
        "id": "u29QgXyopCP6"
      }
    },
    {
      "cell_type": "code",
      "source": [
        "norm_dict = {\n",
        "    '2moro': 'tomorrow',\n",
        "    '2mrrw': 'tomorrow',\n",
        "    '2morrow': 'tomorrow',\n",
        "    '2mrw': 'tomorrow',\n",
        "    'tomrw': 'tomorrow',\n",
        "    'tmr': 'tomorrow',\n",
        "    'omw': 'on my way',\n",
        "    'rn': 'right now',\n",
        "    'b4': 'before',\n",
        "    'otw': 'on the way',\n",
        "    ':D': 'smile',\n",
        "    ':)': 'smile',\n",
        "    'j-)': 'smile'\n",
        "}"
      ],
      "metadata": {
        "id": "Ljzj2TkDnuGP"
      },
      "execution_count": 38,
      "outputs": []
    },
    {
      "cell_type": "code",
      "source": [
        "def normalize_text(text):\n",
        "  res = [norm_dict[w] if w in norm_dict else w for w in text]\n",
        "  return res"
      ],
      "metadata": {
        "id": "agPIVfiRo6sa"
      },
      "execution_count": 45,
      "outputs": []
    },
    {
      "cell_type": "code",
      "source": [
        "word_list = [\"tmr\", \"omw\", ':D', \"b4\"]\n",
        "normalize_text(word_list)"
      ],
      "metadata": {
        "colab": {
          "base_uri": "https://localhost:8080/"
        },
        "id": "A3zKlKetpBk2",
        "outputId": "67e87cef-80aa-4807-e046-47560ce61bcc"
      },
      "execution_count": 47,
      "outputs": [
        {
          "output_type": "execute_result",
          "data": {
            "text/plain": [
              "['tomorrow', 'on my way', 'smile', 'before']"
            ]
          },
          "metadata": {},
          "execution_count": 47
        }
      ]
    },
    {
      "cell_type": "markdown",
      "source": [
        "## Noise Removal\n",
        "Delete unncessary stuff from words"
      ],
      "metadata": {
        "id": "IUkjdmtgs18W"
      }
    },
    {
      "cell_type": "code",
      "source": [
        "import pandas as pd\n",
        "import re"
      ],
      "metadata": {
        "id": "eVeywfHgs1IS"
      },
      "execution_count": 49,
      "outputs": []
    },
    {
      "cell_type": "code",
      "source": [
        "def scrub_words(text):\n",
        "    # remove html markup\n",
        "    text = re.sub(r'<.*?>', '', text)\n",
        "    # remove non-ascii and digits\n",
        "    text = re.sub(r'[\\W\\d]', ' ', text)\n",
        "    # remove whitespace\n",
        "    text = text.strip()\n",
        "    return text"
      ],
      "metadata": {
        "id": "hD5jUVwwwmR7"
      },
      "execution_count": 50,
      "outputs": []
    },
    {
      "cell_type": "code",
      "source": [
        "raw_words = [\"..trouble..\", \"trouble<\", \"trouble!\", \"<a>trouble</a>\", \"1.trouble\"]\n",
        "cleaned_words = [scrub_words(w) for w in raw_words]\n",
        "stemdf = pd.DataFrame({'raw_word': raw_words,'cleaned_word':cleaned_words})\n",
        "stemdf = stemdf[['raw_word','cleaned_word']]\n",
        "stemdf"
      ],
      "metadata": {
        "colab": {
          "base_uri": "https://localhost:8080/",
          "height": 206
        },
        "id": "1Cb5qdu0xLf5",
        "outputId": "90e36781-a6f8-48b6-8b92-ff200c834247"
      },
      "execution_count": 54,
      "outputs": [
        {
          "output_type": "execute_result",
          "data": {
            "text/plain": [
              "         raw_word cleaned_word\n",
              "0     ..trouble..      trouble\n",
              "1        trouble<      trouble\n",
              "2        trouble!      trouble\n",
              "3  <a>trouble</a>      trouble\n",
              "4       1.trouble      trouble"
            ],
            "text/html": [
              "\n",
              "  <div id=\"df-559f6f90-ac3c-42cb-a250-3e02c35f80cc\" class=\"colab-df-container\">\n",
              "    <div>\n",
              "<style scoped>\n",
              "    .dataframe tbody tr th:only-of-type {\n",
              "        vertical-align: middle;\n",
              "    }\n",
              "\n",
              "    .dataframe tbody tr th {\n",
              "        vertical-align: top;\n",
              "    }\n",
              "\n",
              "    .dataframe thead th {\n",
              "        text-align: right;\n",
              "    }\n",
              "</style>\n",
              "<table border=\"1\" class=\"dataframe\">\n",
              "  <thead>\n",
              "    <tr style=\"text-align: right;\">\n",
              "      <th></th>\n",
              "      <th>raw_word</th>\n",
              "      <th>cleaned_word</th>\n",
              "    </tr>\n",
              "  </thead>\n",
              "  <tbody>\n",
              "    <tr>\n",
              "      <th>0</th>\n",
              "      <td>..trouble..</td>\n",
              "      <td>trouble</td>\n",
              "    </tr>\n",
              "    <tr>\n",
              "      <th>1</th>\n",
              "      <td>trouble&lt;</td>\n",
              "      <td>trouble</td>\n",
              "    </tr>\n",
              "    <tr>\n",
              "      <th>2</th>\n",
              "      <td>trouble!</td>\n",
              "      <td>trouble</td>\n",
              "    </tr>\n",
              "    <tr>\n",
              "      <th>3</th>\n",
              "      <td>&lt;a&gt;trouble&lt;/a&gt;</td>\n",
              "      <td>trouble</td>\n",
              "    </tr>\n",
              "    <tr>\n",
              "      <th>4</th>\n",
              "      <td>1.trouble</td>\n",
              "      <td>trouble</td>\n",
              "    </tr>\n",
              "  </tbody>\n",
              "</table>\n",
              "</div>\n",
              "    <div class=\"colab-df-buttons\">\n",
              "\n",
              "  <div class=\"colab-df-container\">\n",
              "    <button class=\"colab-df-convert\" onclick=\"convertToInteractive('df-559f6f90-ac3c-42cb-a250-3e02c35f80cc')\"\n",
              "            title=\"Convert this dataframe to an interactive table.\"\n",
              "            style=\"display:none;\">\n",
              "\n",
              "  <svg xmlns=\"http://www.w3.org/2000/svg\" height=\"24px\" viewBox=\"0 -960 960 960\">\n",
              "    <path d=\"M120-120v-720h720v720H120Zm60-500h600v-160H180v160Zm220 220h160v-160H400v160Zm0 220h160v-160H400v160ZM180-400h160v-160H180v160Zm440 0h160v-160H620v160ZM180-180h160v-160H180v160Zm440 0h160v-160H620v160Z\"/>\n",
              "  </svg>\n",
              "    </button>\n",
              "\n",
              "  <style>\n",
              "    .colab-df-container {\n",
              "      display:flex;\n",
              "      gap: 12px;\n",
              "    }\n",
              "\n",
              "    .colab-df-convert {\n",
              "      background-color: #E8F0FE;\n",
              "      border: none;\n",
              "      border-radius: 50%;\n",
              "      cursor: pointer;\n",
              "      display: none;\n",
              "      fill: #1967D2;\n",
              "      height: 32px;\n",
              "      padding: 0 0 0 0;\n",
              "      width: 32px;\n",
              "    }\n",
              "\n",
              "    .colab-df-convert:hover {\n",
              "      background-color: #E2EBFA;\n",
              "      box-shadow: 0px 1px 2px rgba(60, 64, 67, 0.3), 0px 1px 3px 1px rgba(60, 64, 67, 0.15);\n",
              "      fill: #174EA6;\n",
              "    }\n",
              "\n",
              "    .colab-df-buttons div {\n",
              "      margin-bottom: 4px;\n",
              "    }\n",
              "\n",
              "    [theme=dark] .colab-df-convert {\n",
              "      background-color: #3B4455;\n",
              "      fill: #D2E3FC;\n",
              "    }\n",
              "\n",
              "    [theme=dark] .colab-df-convert:hover {\n",
              "      background-color: #434B5C;\n",
              "      box-shadow: 0px 1px 3px 1px rgba(0, 0, 0, 0.15);\n",
              "      filter: drop-shadow(0px 1px 2px rgba(0, 0, 0, 0.3));\n",
              "      fill: #FFFFFF;\n",
              "    }\n",
              "  </style>\n",
              "\n",
              "    <script>\n",
              "      const buttonEl =\n",
              "        document.querySelector('#df-559f6f90-ac3c-42cb-a250-3e02c35f80cc button.colab-df-convert');\n",
              "      buttonEl.style.display =\n",
              "        google.colab.kernel.accessAllowed ? 'block' : 'none';\n",
              "\n",
              "      async function convertToInteractive(key) {\n",
              "        const element = document.querySelector('#df-559f6f90-ac3c-42cb-a250-3e02c35f80cc');\n",
              "        const dataTable =\n",
              "          await google.colab.kernel.invokeFunction('convertToInteractive',\n",
              "                                                    [key], {});\n",
              "        if (!dataTable) return;\n",
              "\n",
              "        const docLinkHtml = 'Like what you see? Visit the ' +\n",
              "          '<a target=\"_blank\" href=https://colab.research.google.com/notebooks/data_table.ipynb>data table notebook</a>'\n",
              "          + ' to learn more about interactive tables.';\n",
              "        element.innerHTML = '';\n",
              "        dataTable['output_type'] = 'display_data';\n",
              "        await google.colab.output.renderOutput(dataTable, element);\n",
              "        const docLink = document.createElement('div');\n",
              "        docLink.innerHTML = docLinkHtml;\n",
              "        element.appendChild(docLink);\n",
              "      }\n",
              "    </script>\n",
              "  </div>\n",
              "\n",
              "\n",
              "<div id=\"df-4e7c6735-b3fe-4fda-8a6c-87b565e298a0\">\n",
              "  <button class=\"colab-df-quickchart\" onclick=\"quickchart('df-4e7c6735-b3fe-4fda-8a6c-87b565e298a0')\"\n",
              "            title=\"Suggest charts\"\n",
              "            style=\"display:none;\">\n",
              "\n",
              "<svg xmlns=\"http://www.w3.org/2000/svg\" height=\"24px\"viewBox=\"0 0 24 24\"\n",
              "     width=\"24px\">\n",
              "    <g>\n",
              "        <path d=\"M19 3H5c-1.1 0-2 .9-2 2v14c0 1.1.9 2 2 2h14c1.1 0 2-.9 2-2V5c0-1.1-.9-2-2-2zM9 17H7v-7h2v7zm4 0h-2V7h2v10zm4 0h-2v-4h2v4z\"/>\n",
              "    </g>\n",
              "</svg>\n",
              "  </button>\n",
              "\n",
              "<style>\n",
              "  .colab-df-quickchart {\n",
              "      --bg-color: #E8F0FE;\n",
              "      --fill-color: #1967D2;\n",
              "      --hover-bg-color: #E2EBFA;\n",
              "      --hover-fill-color: #174EA6;\n",
              "      --disabled-fill-color: #AAA;\n",
              "      --disabled-bg-color: #DDD;\n",
              "  }\n",
              "\n",
              "  [theme=dark] .colab-df-quickchart {\n",
              "      --bg-color: #3B4455;\n",
              "      --fill-color: #D2E3FC;\n",
              "      --hover-bg-color: #434B5C;\n",
              "      --hover-fill-color: #FFFFFF;\n",
              "      --disabled-bg-color: #3B4455;\n",
              "      --disabled-fill-color: #666;\n",
              "  }\n",
              "\n",
              "  .colab-df-quickchart {\n",
              "    background-color: var(--bg-color);\n",
              "    border: none;\n",
              "    border-radius: 50%;\n",
              "    cursor: pointer;\n",
              "    display: none;\n",
              "    fill: var(--fill-color);\n",
              "    height: 32px;\n",
              "    padding: 0;\n",
              "    width: 32px;\n",
              "  }\n",
              "\n",
              "  .colab-df-quickchart:hover {\n",
              "    background-color: var(--hover-bg-color);\n",
              "    box-shadow: 0 1px 2px rgba(60, 64, 67, 0.3), 0 1px 3px 1px rgba(60, 64, 67, 0.15);\n",
              "    fill: var(--button-hover-fill-color);\n",
              "  }\n",
              "\n",
              "  .colab-df-quickchart-complete:disabled,\n",
              "  .colab-df-quickchart-complete:disabled:hover {\n",
              "    background-color: var(--disabled-bg-color);\n",
              "    fill: var(--disabled-fill-color);\n",
              "    box-shadow: none;\n",
              "  }\n",
              "\n",
              "  .colab-df-spinner {\n",
              "    border: 2px solid var(--fill-color);\n",
              "    border-color: transparent;\n",
              "    border-bottom-color: var(--fill-color);\n",
              "    animation:\n",
              "      spin 1s steps(1) infinite;\n",
              "  }\n",
              "\n",
              "  @keyframes spin {\n",
              "    0% {\n",
              "      border-color: transparent;\n",
              "      border-bottom-color: var(--fill-color);\n",
              "      border-left-color: var(--fill-color);\n",
              "    }\n",
              "    20% {\n",
              "      border-color: transparent;\n",
              "      border-left-color: var(--fill-color);\n",
              "      border-top-color: var(--fill-color);\n",
              "    }\n",
              "    30% {\n",
              "      border-color: transparent;\n",
              "      border-left-color: var(--fill-color);\n",
              "      border-top-color: var(--fill-color);\n",
              "      border-right-color: var(--fill-color);\n",
              "    }\n",
              "    40% {\n",
              "      border-color: transparent;\n",
              "      border-right-color: var(--fill-color);\n",
              "      border-top-color: var(--fill-color);\n",
              "    }\n",
              "    60% {\n",
              "      border-color: transparent;\n",
              "      border-right-color: var(--fill-color);\n",
              "    }\n",
              "    80% {\n",
              "      border-color: transparent;\n",
              "      border-right-color: var(--fill-color);\n",
              "      border-bottom-color: var(--fill-color);\n",
              "    }\n",
              "    90% {\n",
              "      border-color: transparent;\n",
              "      border-bottom-color: var(--fill-color);\n",
              "    }\n",
              "  }\n",
              "</style>\n",
              "\n",
              "  <script>\n",
              "    async function quickchart(key) {\n",
              "      const quickchartButtonEl =\n",
              "        document.querySelector('#' + key + ' button');\n",
              "      quickchartButtonEl.disabled = true;  // To prevent multiple clicks.\n",
              "      quickchartButtonEl.classList.add('colab-df-spinner');\n",
              "      try {\n",
              "        const charts = await google.colab.kernel.invokeFunction(\n",
              "            'suggestCharts', [key], {});\n",
              "      } catch (error) {\n",
              "        console.error('Error during call to suggestCharts:', error);\n",
              "      }\n",
              "      quickchartButtonEl.classList.remove('colab-df-spinner');\n",
              "      quickchartButtonEl.classList.add('colab-df-quickchart-complete');\n",
              "    }\n",
              "    (() => {\n",
              "      let quickchartButtonEl =\n",
              "        document.querySelector('#df-4e7c6735-b3fe-4fda-8a6c-87b565e298a0 button');\n",
              "      quickchartButtonEl.style.display =\n",
              "        google.colab.kernel.accessAllowed ? 'block' : 'none';\n",
              "    })();\n",
              "  </script>\n",
              "</div>\n",
              "\n",
              "  <div id=\"id_24ca5f64-7422-4fdf-aa09-6d3ba4f503b0\">\n",
              "    <style>\n",
              "      .colab-df-generate {\n",
              "        background-color: #E8F0FE;\n",
              "        border: none;\n",
              "        border-radius: 50%;\n",
              "        cursor: pointer;\n",
              "        display: none;\n",
              "        fill: #1967D2;\n",
              "        height: 32px;\n",
              "        padding: 0 0 0 0;\n",
              "        width: 32px;\n",
              "      }\n",
              "\n",
              "      .colab-df-generate:hover {\n",
              "        background-color: #E2EBFA;\n",
              "        box-shadow: 0px 1px 2px rgba(60, 64, 67, 0.3), 0px 1px 3px 1px rgba(60, 64, 67, 0.15);\n",
              "        fill: #174EA6;\n",
              "      }\n",
              "\n",
              "      [theme=dark] .colab-df-generate {\n",
              "        background-color: #3B4455;\n",
              "        fill: #D2E3FC;\n",
              "      }\n",
              "\n",
              "      [theme=dark] .colab-df-generate:hover {\n",
              "        background-color: #434B5C;\n",
              "        box-shadow: 0px 1px 3px 1px rgba(0, 0, 0, 0.15);\n",
              "        filter: drop-shadow(0px 1px 2px rgba(0, 0, 0, 0.3));\n",
              "        fill: #FFFFFF;\n",
              "      }\n",
              "    </style>\n",
              "    <button class=\"colab-df-generate\" onclick=\"generateWithVariable('stemdf')\"\n",
              "            title=\"Generate code using this dataframe.\"\n",
              "            style=\"display:none;\">\n",
              "\n",
              "  <svg xmlns=\"http://www.w3.org/2000/svg\" height=\"24px\"viewBox=\"0 0 24 24\"\n",
              "       width=\"24px\">\n",
              "    <path d=\"M7,19H8.4L18.45,9,17,7.55,7,17.6ZM5,21V16.75L18.45,3.32a2,2,0,0,1,2.83,0l1.4,1.43a1.91,1.91,0,0,1,.58,1.4,1.91,1.91,0,0,1-.58,1.4L9.25,21ZM18.45,9,17,7.55Zm-12,3A5.31,5.31,0,0,0,4.9,8.1,5.31,5.31,0,0,0,1,6.5,5.31,5.31,0,0,0,4.9,4.9,5.31,5.31,0,0,0,6.5,1,5.31,5.31,0,0,0,8.1,4.9,5.31,5.31,0,0,0,12,6.5,5.46,5.46,0,0,0,6.5,12Z\"/>\n",
              "  </svg>\n",
              "    </button>\n",
              "    <script>\n",
              "      (() => {\n",
              "      const buttonEl =\n",
              "        document.querySelector('#id_24ca5f64-7422-4fdf-aa09-6d3ba4f503b0 button.colab-df-generate');\n",
              "      buttonEl.style.display =\n",
              "        google.colab.kernel.accessAllowed ? 'block' : 'none';\n",
              "\n",
              "      buttonEl.onclick = () => {\n",
              "        google.colab.notebook.generateWithVariable('stemdf');\n",
              "      }\n",
              "      })();\n",
              "    </script>\n",
              "  </div>\n",
              "\n",
              "    </div>\n",
              "  </div>\n"
            ],
            "application/vnd.google.colaboratory.intrinsic+json": {
              "type": "dataframe",
              "variable_name": "stemdf",
              "summary": "{\n  \"name\": \"stemdf\",\n  \"rows\": 5,\n  \"fields\": [\n    {\n      \"column\": \"raw_word\",\n      \"properties\": {\n        \"dtype\": \"string\",\n        \"num_unique_values\": 5,\n        \"samples\": [\n          \"trouble<\",\n          \"1.trouble\",\n          \"trouble!\"\n        ],\n        \"semantic_type\": \"\",\n        \"description\": \"\"\n      }\n    },\n    {\n      \"column\": \"cleaned_word\",\n      \"properties\": {\n        \"dtype\": \"category\",\n        \"num_unique_values\": 1,\n        \"samples\": [\n          \"trouble\"\n        ],\n        \"semantic_type\": \"\",\n        \"description\": \"\"\n      }\n    }\n  ]\n}"
            }
          },
          "metadata": {},
          "execution_count": 54
        }
      ]
    },
    {
      "cell_type": "markdown",
      "source": [
        "## Text Enrichment / Augmentation\n",
        "adding more sematics to words/input"
      ],
      "metadata": {
        "id": "VOuit8dP-FpT"
      }
    },
    {
      "cell_type": "code",
      "source": [
        "from nltk.corpus import wordnet\n",
        "syns = wordnet.synsets(\"program\") # The output is library available of the word \"program\" or relate to \"program\"\n",
        "syns"
      ],
      "metadata": {
        "colab": {
          "base_uri": "https://localhost:8080/"
        },
        "id": "tjedY9nT-E-P",
        "outputId": "c2efc2d6-1e67-4e38-ece7-096a1c9a38d2"
      },
      "execution_count": 67,
      "outputs": [
        {
          "output_type": "execute_result",
          "data": {
            "text/plain": [
              "[Synset('plan.n.01'),\n",
              " Synset('program.n.02'),\n",
              " Synset('broadcast.n.02'),\n",
              " Synset('platform.n.02'),\n",
              " Synset('program.n.05'),\n",
              " Synset('course_of_study.n.01'),\n",
              " Synset('program.n.07'),\n",
              " Synset('program.n.08'),\n",
              " Synset('program.v.01'),\n",
              " Synset('program.v.02')]"
            ]
          },
          "metadata": {},
          "execution_count": 67
        }
      ]
    },
    {
      "cell_type": "code",
      "source": [
        "[s.lemmas()[0].name() for s in syns]"
      ],
      "metadata": {
        "colab": {
          "base_uri": "https://localhost:8080/"
        },
        "id": "2A6MYvHc-9fW",
        "outputId": "d76fb503-f467-458f-e7b5-d20564b6c24e"
      },
      "execution_count": 68,
      "outputs": [
        {
          "output_type": "execute_result",
          "data": {
            "text/plain": [
              "['plan',\n",
              " 'program',\n",
              " 'broadcast',\n",
              " 'platform',\n",
              " 'program',\n",
              " 'course_of_study',\n",
              " 'program',\n",
              " 'program',\n",
              " 'program',\n",
              " 'program']"
            ]
          },
          "metadata": {},
          "execution_count": 68
        }
      ]
    }
  ]
}