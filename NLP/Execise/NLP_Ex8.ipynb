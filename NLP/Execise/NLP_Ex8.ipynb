{
  "nbformat": 4,
  "nbformat_minor": 0,
  "metadata": {
    "colab": {
      "provenance": []
    },
    "kernelspec": {
      "name": "python3",
      "display_name": "Python 3"
    },
    "language_info": {
      "name": "python"
    }
  },
  "cells": [
    {
      "cell_type": "markdown",
      "source": [
        "### Stop Words: Exercise"
      ],
      "metadata": {
        "id": "dhudhdn1vY_L"
      }
    },
    {
      "cell_type": "code",
      "execution_count": 1,
      "metadata": {
        "id": "B76uKWdmvMIU"
      },
      "outputs": [],
      "source": [
        "import spacy\n",
        "\n",
        "nlp = spacy.load(\"en_core_web_sm\")"
      ]
    },
    {
      "cell_type": "markdown",
      "source": [
        "#### Exercise1:\n",
        "\n",
        "From a Given Text, Count the number of stop words in it.\n",
        "Print the percentage of stop word tokens compared to all tokens in a given text."
      ],
      "metadata": {
        "id": "oUydKjvxvdvX"
      }
    },
    {
      "cell_type": "code",
      "source": [
        "text = '''\n",
        "Thor: Love and Thunder is a 2022 American superhero film based on Marvel Comics featuring the character Thor, produced by Marvel Studios and\n",
        "distributed by Walt Disney Studios Motion Pictures. It is the sequel to Thor: Ragnarok (2017) and the 29th film in the Marvel Cinematic Universe (MCU).\n",
        "The film is directed by Taika Waititi, who co-wrote the script with Jennifer Kaytin Robinson, and stars Chris Hemsworth as Thor alongside Christian Bale, Tessa Thompson,\n",
        "Jaimie Alexander, Waititi, Russell Crowe, and Natalie Portman. In the film, Thor attempts to find inner peace, but must return to action and recruit Valkyrie (Thompson),\n",
        "Korg (Waititi), and Jane Foster (Portman)—who is now the Mighty Thor—to stop Gorr the God Butcher (Bale) from eliminating all gods.\n",
        "'''\n",
        "\n",
        "#step1: Create the object 'doc' for the given text using nlp()\n",
        "\n",
        "doc = nlp(text)\n",
        "\n",
        "#step2: define the variables to keep track of stopwords count and total words count\n",
        "\n",
        "stopwords = 0\n",
        "total_words = 0\n",
        "\n",
        "#step3: iterate through all the words in the document\n",
        "\n",
        "for token in doc:\n",
        "  if token.is_stop:\n",
        "      stopwords += 1\n",
        "  total_words += 1\n",
        "\n",
        "#step4: print the count of stop words\n",
        "\n",
        "print(stopwords)\n",
        "\n",
        "#step5: print the percentage of stop words compared to total words in the text\n",
        "\n",
        "percentage_stop_words = (stopwords / total_words) * 100\n",
        "print(f\"Percentage of Stop words presented in the given text: {percentage_stop_words} %\")"
      ],
      "metadata": {
        "colab": {
          "base_uri": "https://localhost:8080/"
        },
        "id": "hzfWmBOQvXLn",
        "outputId": "f0734237-b6d6-478b-c59e-a3e6803e1322"
      },
      "execution_count": 10,
      "outputs": [
        {
          "output_type": "stream",
          "name": "stdout",
          "text": [
            "40\n",
            "Percentage of Stop words presented in the given text: 25.0 %\n"
          ]
        }
      ]
    },
    {
      "cell_type": "markdown",
      "source": [
        "#### Exercise 2\n",
        "\n",
        "Spacy default implementation considers \"not\" as a stop word. But in some scenarios removing 'not' will completely change the meaning of the statement/text. For Example, consider these two statements:\n",
        "\n",
        "- this is a good movie       ----> Positive Statement\n",
        "- this is not a good movie   ----> Negative Statement\n",
        "\n",
        "So, after applying stopwords to those 2 texts, both will return \"good movie\" and does not respect the polarity/sentiments of text.\n",
        "\n",
        "Now, your task is to remove this stop word \"not\" in spaCy and help in distinguishing the texts.\n",
        "\n",
        "Hint: GOOGLE IT! Google is your friend.\n"
      ],
      "metadata": {
        "id": "ip6zfYn1xA3W"
      }
    },
    {
      "cell_type": "code",
      "source": [
        "#use this pre-processing function to pass the text and to remove all the stop words and finally get the cleaned form\n",
        "def preprocess(text):\n",
        "    doc = nlp(text)\n",
        "    no_stop_words = [token.text for token in doc if not token.is_stop]\n",
        "    return \" \".join(no_stop_words)\n",
        "\n",
        "#Step1: remove the stopword 'not' in spacy\n",
        "nlp.vocab['not'].is_stop = False\n",
        "\n",
        "#step2: send the two texts given above into the pre-process function and store the transformed texts\n",
        "text1 = preprocess(\"this is a good movie\")\n",
        "text2 = preprocess(\"this is not a good movie\")\n",
        "\n",
        "#step3: finally print those 2 transformed texts\n",
        "print(text1)\n",
        "print(text2)"
      ],
      "metadata": {
        "colab": {
          "base_uri": "https://localhost:8080/"
        },
        "id": "QhgJcxApxDgq",
        "outputId": "144cc523-6db0-4563-9cc6-9190fd12f97e"
      },
      "execution_count": 30,
      "outputs": [
        {
          "output_type": "stream",
          "name": "stdout",
          "text": [
            "good movie\n",
            "not good movie\n"
          ]
        }
      ]
    },
    {
      "cell_type": "markdown",
      "source": [
        "#### Exercise3:\n",
        "\n",
        "From a given text, output the most frequently used token after removing all the stop word tokens and punctuations in it."
      ],
      "metadata": {
        "id": "ID8DNLqY0VqV"
      }
    },
    {
      "cell_type": "code",
      "source": [
        "text = ''' The India men's national cricket team, also known as Team India or the Men in Blue, represents India in men's international cricket.\n",
        "It is governed by the Board of Control for Cricket in India (BCCI), and is a Full Member of the International Cricket Council (ICC) with Test,\n",
        "One Day International (ODI) and Twenty20 International (T20I) status. Cricket was introduced to India by British sailors in the 18th century, and the\n",
        "first cricket club was established in 1792. India's national cricket team played its first Test match on 25 June 1932 at Lord's, becoming the sixth team to be\n",
        "granted test cricket status.\n",
        "'''\n",
        "\n",
        "#step1: Create the object 'doc' for the given text using nlp()\n",
        "\n",
        "doc = nlp(text)\n",
        "\n",
        "#step2: remove all the stop words and punctuations and store all the remaining tokens in a new list\n",
        "\n",
        "Clean_text = []\n",
        "\n",
        "for token in doc:\n",
        "  if token.is_stop or token.is_punct:    #check whether a given token is stop word or punctuations\n",
        "    continue\n",
        "  Clean_text.append(token.text)\n",
        "\n",
        "#step3: create a new dictionary and get the frequency of words by iterating through the list which contains stored tokens\n",
        "\n",
        "Feq = {}\n",
        "for token in Clean_text:\n",
        "  if token != '\\n' and token != ' ':      #As spacy considers new line and empty spaces as seperate token, it's better to ignore them\n",
        "    if token not in Feq:     #if a particular token occurs for the first time, we initialise it to 1\n",
        "      Feq[token] = 1\n",
        "    else:\n",
        "      Feq[token] += 1        #if a partcular token is already present, then increment by 1 based on value already presented\n",
        "\n",
        "#step4: get the maximum frequency word\n",
        "\n",
        "max_freq_word = max(Feq.keys(), key=(lambda key: Feq[key]))\n",
        "\n",
        "#step5: finally print the result\n",
        "\n",
        "print(max_freq_word)"
      ],
      "metadata": {
        "colab": {
          "base_uri": "https://localhost:8080/"
        },
        "id": "mXxA5o0v0bmv",
        "outputId": "8acfb700-b0e4-49e9-e86c-088dff6b2122"
      },
      "execution_count": 35,
      "outputs": [
        {
          "output_type": "stream",
          "name": "stdout",
          "text": [
            "India\n"
          ]
        }
      ]
    }
  ]
}